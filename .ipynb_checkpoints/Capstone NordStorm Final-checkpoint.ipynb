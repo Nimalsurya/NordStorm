{
 "cells": [
  {
   "cell_type": "code",
   "execution_count": 1,
   "id": "99dd1090",
   "metadata": {},
   "outputs": [],
   "source": [
    "import numpy as np\n",
    "import pandas as pd\n",
    "import matplotlib.pyplot as plt\n",
    "import seaborn as sns\n",
    "import warnings\n",
    "warnings.filterwarnings('ignore')"
   ]
  },
  {
   "cell_type": "code",
   "execution_count": 2,
   "id": "5be77b39",
   "metadata": {},
   "outputs": [
    {
     "data": {
      "text/html": [
       "<div>\n",
       "<style scoped>\n",
       "    .dataframe tbody tr th:only-of-type {\n",
       "        vertical-align: middle;\n",
       "    }\n",
       "\n",
       "    .dataframe tbody tr th {\n",
       "        vertical-align: top;\n",
       "    }\n",
       "\n",
       "    .dataframe thead th {\n",
       "        text-align: right;\n",
       "    }\n",
       "</style>\n",
       "<table border=\"1\" class=\"dataframe\">\n",
       "  <thead>\n",
       "    <tr style=\"text-align: right;\">\n",
       "      <th></th>\n",
       "      <th>DEPARTMENT</th>\n",
       "      <th>CATEGORY</th>\n",
       "      <th>SUBCATEGORY</th>\n",
       "      <th>SKU</th>\n",
       "      <th>PRODUCT_NAME</th>\n",
       "      <th>BRAND</th>\n",
       "      <th>GENDER</th>\n",
       "      <th>PRICE_RETAIL</th>\n",
       "      <th>PRICE_CURRENT</th>\n",
       "      <th>REVIEW_RATING</th>\n",
       "      <th>REVIEW_COUNT</th>\n",
       "      <th>PROMOTION</th>\n",
       "      <th>COLOR</th>\n",
       "      <th>RunDate</th>\n",
       "      <th>InsertUpdateTime</th>\n",
       "    </tr>\n",
       "  </thead>\n",
       "  <tbody>\n",
       "    <tr>\n",
       "      <th>0</th>\n",
       "      <td>Women</td>\n",
       "      <td>Clothing</td>\n",
       "      <td>Blazers, Suits &amp; Separates</td>\n",
       "      <td>4578258</td>\n",
       "      <td>Etiennette B Good Wool Suit Jacket</td>\n",
       "      <td>Theory</td>\n",
       "      <td>Women</td>\n",
       "      <td>345.0</td>\n",
       "      <td>345.0</td>\n",
       "      <td>4.1</td>\n",
       "      <td>85</td>\n",
       "      <td>NaN</td>\n",
       "      <td>498</td>\n",
       "      <td>2022-05-15 08:03:21</td>\n",
       "      <td>2022-05-15 08:19:11</td>\n",
       "    </tr>\n",
       "    <tr>\n",
       "      <th>1</th>\n",
       "      <td>Women</td>\n",
       "      <td>Clothing</td>\n",
       "      <td>Blazers, Suits &amp; Separates</td>\n",
       "      <td>4954210</td>\n",
       "      <td>Demitria 2 Stretch Good Wool Suit Pants</td>\n",
       "      <td>Theory</td>\n",
       "      <td>Women</td>\n",
       "      <td>215.0</td>\n",
       "      <td>215.0</td>\n",
       "      <td>4.2</td>\n",
       "      <td>71</td>\n",
       "      <td>NaN</td>\n",
       "      <td>020</td>\n",
       "      <td>2022-05-15 08:03:21</td>\n",
       "      <td>2022-05-15 08:19:11</td>\n",
       "    </tr>\n",
       "    <tr>\n",
       "      <th>2</th>\n",
       "      <td>Women</td>\n",
       "      <td>Clothing</td>\n",
       "      <td>Blazers, Suits &amp; Separates</td>\n",
       "      <td>5125568</td>\n",
       "      <td>Bermuda Shorts</td>\n",
       "      <td>Vince</td>\n",
       "      <td>Women</td>\n",
       "      <td>175.0</td>\n",
       "      <td>175.0</td>\n",
       "      <td>4.0</td>\n",
       "      <td>41</td>\n",
       "      <td>NaN</td>\n",
       "      <td>001</td>\n",
       "      <td>2022-05-15 08:03:21</td>\n",
       "      <td>2022-05-15 08:19:11</td>\n",
       "    </tr>\n",
       "    <tr>\n",
       "      <th>3</th>\n",
       "      <td>Women</td>\n",
       "      <td>Clothing</td>\n",
       "      <td>Blazers, Suits &amp; Separates</td>\n",
       "      <td>5184553</td>\n",
       "      <td>Drape Collar Knit Blazer</td>\n",
       "      <td>Caslon®</td>\n",
       "      <td>Women</td>\n",
       "      <td>69.0</td>\n",
       "      <td>69.0</td>\n",
       "      <td>4.3</td>\n",
       "      <td>590</td>\n",
       "      <td>NaN</td>\n",
       "      <td>401</td>\n",
       "      <td>2022-05-15 08:03:21</td>\n",
       "      <td>2022-05-15 08:19:11</td>\n",
       "    </tr>\n",
       "    <tr>\n",
       "      <th>4</th>\n",
       "      <td>Women</td>\n",
       "      <td>Clothing</td>\n",
       "      <td>Blazers, Suits &amp; Separates</td>\n",
       "      <td>5268077</td>\n",
       "      <td>Grace Jacket</td>\n",
       "      <td>NIC+ZOE</td>\n",
       "      <td>Women</td>\n",
       "      <td>148.0</td>\n",
       "      <td>148.0</td>\n",
       "      <td>3.9</td>\n",
       "      <td>51</td>\n",
       "      <td>NaN</td>\n",
       "      <td>004</td>\n",
       "      <td>2022-05-15 08:03:21</td>\n",
       "      <td>2022-05-15 08:19:11</td>\n",
       "    </tr>\n",
       "  </tbody>\n",
       "</table>\n",
       "</div>"
      ],
      "text/plain": [
       "  DEPARTMENT  CATEGORY                 SUBCATEGORY      SKU  \\\n",
       "0      Women  Clothing  Blazers, Suits & Separates  4578258   \n",
       "1      Women  Clothing  Blazers, Suits & Separates  4954210   \n",
       "2      Women  Clothing  Blazers, Suits & Separates  5125568   \n",
       "3      Women  Clothing  Blazers, Suits & Separates  5184553   \n",
       "4      Women  Clothing  Blazers, Suits & Separates  5268077   \n",
       "\n",
       "                              PRODUCT_NAME    BRAND GENDER  PRICE_RETAIL  \\\n",
       "0       Etiennette B Good Wool Suit Jacket   Theory  Women         345.0   \n",
       "1  Demitria 2 Stretch Good Wool Suit Pants   Theory  Women         215.0   \n",
       "2                           Bermuda Shorts    Vince  Women         175.0   \n",
       "3                 Drape Collar Knit Blazer  Caslon®  Women          69.0   \n",
       "4                             Grace Jacket  NIC+ZOE  Women         148.0   \n",
       "\n",
       "   PRICE_CURRENT  REVIEW_RATING  REVIEW_COUNT PROMOTION COLOR  \\\n",
       "0          345.0            4.1            85       NaN   498   \n",
       "1          215.0            4.2            71       NaN   020   \n",
       "2          175.0            4.0            41       NaN   001   \n",
       "3           69.0            4.3           590       NaN   401   \n",
       "4          148.0            3.9            51       NaN   004   \n",
       "\n",
       "               RunDate     InsertUpdateTime  \n",
       "0  2022-05-15 08:03:21  2022-05-15 08:19:11  \n",
       "1  2022-05-15 08:03:21  2022-05-15 08:19:11  \n",
       "2  2022-05-15 08:03:21  2022-05-15 08:19:11  \n",
       "3  2022-05-15 08:03:21  2022-05-15 08:19:11  \n",
       "4  2022-05-15 08:03:21  2022-05-15 08:19:11  "
      ]
     },
     "execution_count": 2,
     "metadata": {},
     "output_type": "execute_result"
    }
   ],
   "source": [
    "df = pd.read_csv(r\"C:\\Users\\NIMAL\\Desktop\\Python\\GL DSE OCT22'\\CAP\\Nord Storm\\nordstrom product data.csv\" , low_memory = False )\n",
    "df.head()"
   ]
  },
  {
   "cell_type": "markdown",
   "id": "93ef42c3",
   "metadata": {},
   "source": [
    "## Understand the Data Structure"
   ]
  },
  {
   "cell_type": "code",
   "execution_count": 3,
   "id": "ae28b5e8",
   "metadata": {},
   "outputs": [
    {
     "name": "stdout",
     "output_type": "stream",
     "text": [
      "Number of Rows: 288409\n",
      "Number of Columns: 15\n"
     ]
    }
   ],
   "source": [
    "print('Number of Rows:',df.shape[0])\n",
    "print('Number of Columns:',df.shape[1])"
   ]
  },
  {
   "cell_type": "code",
   "execution_count": 4,
   "id": "c58c5a55",
   "metadata": {},
   "outputs": [
    {
     "data": {
      "text/html": [
       "<div>\n",
       "<style scoped>\n",
       "    .dataframe tbody tr th:only-of-type {\n",
       "        vertical-align: middle;\n",
       "    }\n",
       "\n",
       "    .dataframe tbody tr th {\n",
       "        vertical-align: top;\n",
       "    }\n",
       "\n",
       "    .dataframe thead th {\n",
       "        text-align: right;\n",
       "    }\n",
       "</style>\n",
       "<table border=\"1\" class=\"dataframe\">\n",
       "  <thead>\n",
       "    <tr style=\"text-align: right;\">\n",
       "      <th></th>\n",
       "      <th>count</th>\n",
       "      <th>mean</th>\n",
       "      <th>std</th>\n",
       "      <th>min</th>\n",
       "      <th>25%</th>\n",
       "      <th>50%</th>\n",
       "      <th>75%</th>\n",
       "      <th>max</th>\n",
       "    </tr>\n",
       "  </thead>\n",
       "  <tbody>\n",
       "    <tr>\n",
       "      <th>SKU</th>\n",
       "      <td>288409.0</td>\n",
       "      <td>6.120172e+06</td>\n",
       "      <td>750935.602901</td>\n",
       "      <td>2763447.0</td>\n",
       "      <td>5780118.0</td>\n",
       "      <td>6446515.00</td>\n",
       "      <td>6692068.0</td>\n",
       "      <td>7023883.0</td>\n",
       "    </tr>\n",
       "    <tr>\n",
       "      <th>PRICE_RETAIL</th>\n",
       "      <td>288409.0</td>\n",
       "      <td>3.689888e+02</td>\n",
       "      <td>988.079870</td>\n",
       "      <td>5.0</td>\n",
       "      <td>70.0</td>\n",
       "      <td>128.00</td>\n",
       "      <td>260.0</td>\n",
       "      <td>49850.0</td>\n",
       "    </tr>\n",
       "    <tr>\n",
       "      <th>PRICE_CURRENT</th>\n",
       "      <td>288409.0</td>\n",
       "      <td>3.612655e+02</td>\n",
       "      <td>986.285511</td>\n",
       "      <td>3.5</td>\n",
       "      <td>68.0</td>\n",
       "      <td>119.95</td>\n",
       "      <td>248.0</td>\n",
       "      <td>49850.0</td>\n",
       "    </tr>\n",
       "    <tr>\n",
       "      <th>REVIEW_RATING</th>\n",
       "      <td>288409.0</td>\n",
       "      <td>1.755448e+00</td>\n",
       "      <td>2.086844</td>\n",
       "      <td>0.0</td>\n",
       "      <td>0.0</td>\n",
       "      <td>0.00</td>\n",
       "      <td>4.0</td>\n",
       "      <td>5.0</td>\n",
       "    </tr>\n",
       "    <tr>\n",
       "      <th>REVIEW_COUNT</th>\n",
       "      <td>288409.0</td>\n",
       "      <td>2.463934e+01</td>\n",
       "      <td>187.936167</td>\n",
       "      <td>0.0</td>\n",
       "      <td>0.0</td>\n",
       "      <td>0.00</td>\n",
       "      <td>3.0</td>\n",
       "      <td>11766.0</td>\n",
       "    </tr>\n",
       "  </tbody>\n",
       "</table>\n",
       "</div>"
      ],
      "text/plain": [
       "                  count          mean            std        min        25%  \\\n",
       "SKU            288409.0  6.120172e+06  750935.602901  2763447.0  5780118.0   \n",
       "PRICE_RETAIL   288409.0  3.689888e+02     988.079870        5.0       70.0   \n",
       "PRICE_CURRENT  288409.0  3.612655e+02     986.285511        3.5       68.0   \n",
       "REVIEW_RATING  288409.0  1.755448e+00       2.086844        0.0        0.0   \n",
       "REVIEW_COUNT   288409.0  2.463934e+01     187.936167        0.0        0.0   \n",
       "\n",
       "                      50%        75%        max  \n",
       "SKU            6446515.00  6692068.0  7023883.0  \n",
       "PRICE_RETAIL       128.00      260.0    49850.0  \n",
       "PRICE_CURRENT      119.95      248.0    49850.0  \n",
       "REVIEW_RATING        0.00        4.0        5.0  \n",
       "REVIEW_COUNT         0.00        3.0    11766.0  "
      ]
     },
     "execution_count": 4,
     "metadata": {},
     "output_type": "execute_result"
    }
   ],
   "source": [
    "df.describe().T"
   ]
  },
  {
   "cell_type": "code",
   "execution_count": 5,
   "id": "bf8b4a87",
   "metadata": {},
   "outputs": [
    {
     "data": {
      "text/html": [
       "<div>\n",
       "<style scoped>\n",
       "    .dataframe tbody tr th:only-of-type {\n",
       "        vertical-align: middle;\n",
       "    }\n",
       "\n",
       "    .dataframe tbody tr th {\n",
       "        vertical-align: top;\n",
       "    }\n",
       "\n",
       "    .dataframe thead th {\n",
       "        text-align: right;\n",
       "    }\n",
       "</style>\n",
       "<table border=\"1\" class=\"dataframe\">\n",
       "  <thead>\n",
       "    <tr style=\"text-align: right;\">\n",
       "      <th></th>\n",
       "      <th>count</th>\n",
       "      <th>unique</th>\n",
       "      <th>top</th>\n",
       "      <th>freq</th>\n",
       "    </tr>\n",
       "  </thead>\n",
       "  <tbody>\n",
       "    <tr>\n",
       "      <th>DEPARTMENT</th>\n",
       "      <td>288409</td>\n",
       "      <td>1</td>\n",
       "      <td>Women</td>\n",
       "      <td>288409</td>\n",
       "    </tr>\n",
       "    <tr>\n",
       "      <th>CATEGORY</th>\n",
       "      <td>288409</td>\n",
       "      <td>7</td>\n",
       "      <td>Clothing</td>\n",
       "      <td>108964</td>\n",
       "    </tr>\n",
       "    <tr>\n",
       "      <th>SUBCATEGORY</th>\n",
       "      <td>288409</td>\n",
       "      <td>81</td>\n",
       "      <td>Tops</td>\n",
       "      <td>22986</td>\n",
       "    </tr>\n",
       "    <tr>\n",
       "      <th>PRODUCT_NAME</th>\n",
       "      <td>288392</td>\n",
       "      <td>114112</td>\n",
       "      <td>'Pisces' Sandal</td>\n",
       "      <td>1024</td>\n",
       "    </tr>\n",
       "    <tr>\n",
       "      <th>BRAND</th>\n",
       "      <td>288295</td>\n",
       "      <td>2029</td>\n",
       "      <td>Munro</td>\n",
       "      <td>6616</td>\n",
       "    </tr>\n",
       "    <tr>\n",
       "      <th>GENDER</th>\n",
       "      <td>288409</td>\n",
       "      <td>1</td>\n",
       "      <td>Women</td>\n",
       "      <td>288409</td>\n",
       "    </tr>\n",
       "    <tr>\n",
       "      <th>PROMOTION</th>\n",
       "      <td>16382</td>\n",
       "      <td>75</td>\n",
       "      <td>40% off</td>\n",
       "      <td>4451</td>\n",
       "    </tr>\n",
       "    <tr>\n",
       "      <th>COLOR</th>\n",
       "      <td>288409</td>\n",
       "      <td>963</td>\n",
       "      <td>001</td>\n",
       "      <td>54143</td>\n",
       "    </tr>\n",
       "    <tr>\n",
       "      <th>RunDate</th>\n",
       "      <td>288409</td>\n",
       "      <td>1</td>\n",
       "      <td>2022-05-15 08:03:21</td>\n",
       "      <td>288409</td>\n",
       "    </tr>\n",
       "    <tr>\n",
       "      <th>InsertUpdateTime</th>\n",
       "      <td>288409</td>\n",
       "      <td>9072</td>\n",
       "      <td>2022-05-15 09:29:34</td>\n",
       "      <td>165</td>\n",
       "    </tr>\n",
       "  </tbody>\n",
       "</table>\n",
       "</div>"
      ],
      "text/plain": [
       "                   count  unique                  top    freq\n",
       "DEPARTMENT        288409       1                Women  288409\n",
       "CATEGORY          288409       7             Clothing  108964\n",
       "SUBCATEGORY       288409      81                 Tops   22986\n",
       "PRODUCT_NAME      288392  114112      'Pisces' Sandal    1024\n",
       "BRAND             288295    2029                Munro    6616\n",
       "GENDER            288409       1                Women  288409\n",
       "PROMOTION          16382      75              40% off    4451\n",
       "COLOR             288409     963                  001   54143\n",
       "RunDate           288409       1  2022-05-15 08:03:21  288409\n",
       "InsertUpdateTime  288409    9072  2022-05-15 09:29:34     165"
      ]
     },
     "execution_count": 5,
     "metadata": {},
     "output_type": "execute_result"
    }
   ],
   "source": [
    "df.describe(include='object').T"
   ]
  },
  {
   "cell_type": "code",
   "execution_count": 6,
   "id": "b348f329",
   "metadata": {},
   "outputs": [
    {
     "data": {
      "text/plain": [
       "DEPARTMENT               0\n",
       "CATEGORY                 0\n",
       "SUBCATEGORY              0\n",
       "SKU                      0\n",
       "PRODUCT_NAME            17\n",
       "BRAND                  114\n",
       "GENDER                   0\n",
       "PRICE_RETAIL             0\n",
       "PRICE_CURRENT            0\n",
       "REVIEW_RATING            0\n",
       "REVIEW_COUNT             0\n",
       "PROMOTION           272027\n",
       "COLOR                    0\n",
       "RunDate                  0\n",
       "InsertUpdateTime         0\n",
       "dtype: int64"
      ]
     },
     "execution_count": 6,
     "metadata": {},
     "output_type": "execute_result"
    }
   ],
   "source": [
    "# checking null values\n",
    "df.isnull().sum()"
   ]
  },
  {
   "cell_type": "code",
   "execution_count": 7,
   "id": "f3ed20aa",
   "metadata": {},
   "outputs": [],
   "source": [
    "def cat_col(dataframe):\n",
    "    for i in dataframe.select_dtypes(exclude = np.number).drop(columns=['COLOR','RunDate','InsertUpdateTime']).columns:\n",
    "        print('The Unique names in the column',i,'is : \\n',dataframe[i].unique())\n",
    "        print('\\n\\n')"
   ]
  },
  {
   "cell_type": "code",
   "execution_count": 8,
   "id": "6df90891",
   "metadata": {},
   "outputs": [
    {
     "name": "stdout",
     "output_type": "stream",
     "text": [
      "The Unique names in the column DEPARTMENT is : \n",
      " ['Women']\n",
      "\n",
      "\n",
      "\n",
      "The Unique names in the column CATEGORY is : \n",
      " ['Clothing' 'Shoes' 'Handbags' 'Jewelry' 'Accessories' 'Maternity'\n",
      " 'New Arrivals']\n",
      "\n",
      "\n",
      "\n",
      "The Unique names in the column SUBCATEGORY is : \n",
      " ['Blazers, Suits & Separates' 'Activewear' 'Bodysuits'\n",
      " 'Lingerie, Hosiery & Shapewear' 'Coats & Jackets' 'Jeans & Denim'\n",
      " 'Shorts' 'Loungewear' 'Jumpsuits & Rompers' 'Pants & Leggings' 'Skirts'\n",
      " 'Sweaters' 'Sweatshirts & Hoodies' 'Booties' 'Clogs' 'Sleepwear & Robes'\n",
      " 'Espadrilles' 'Mules & Slides' 'Sandals' 'Comfort'\n",
      " 'Swimsuits & Cover-Ups' 'Boots' 'Dress Shoes' 'Sneakers & Athletic'\n",
      " 'Heels' 'Flats' 'Oxfords & Loafers' 'Shoe Care & Accessories'\n",
      " 'Snow & Winter' 'Bucket Bags' 'Crossbody Bags' 'Makeup Bags' 'Straw Bags'\n",
      " 'Luggage & Travel' 'Charms' 'Belt Bags' 'Rings' 'Clutches & Pouches'\n",
      " 'Hobo Bags' 'Shoulder Bags' 'Wallets & Card Cases' 'Customizable'\n",
      " 'Running Shoes' 'Slippers' 'Jewelry Under $50' 'Bracelets' 'Backpacks'\n",
      " 'Camera Bags' 'Designer Bags' 'Gloves & Mittens' 'Satchels' 'Hats'\n",
      " 'Tote Bags' 'Necklaces' 'Anklets' 'Earrings' 'Fine Jewelry' 'Watches'\n",
      " 'Jewelry Accessories' 'Belts' 'Hair Accessories' 'Headphones'\n",
      " 'Phone Cases' 'Maternity Clothing' 'Jewelry Boxes & Holders' 'Face Masks'\n",
      " 'Handbags & Wallets' 'Jackets & Coats' 'Shoes' 'Accessories'\n",
      " 'Hijabs and Headscarves' 'Scarves & Wraps' 'Jeans'\n",
      " 'Pregnancy Pillows & Support' 'Tops' 'Sunglasses & Eyewear' 'Beauty'\n",
      " 'Dresses' 'Leggings & Pants' 'Clothing' 'Jewelry']\n",
      "\n",
      "\n",
      "\n",
      "The Unique names in the column PRODUCT_NAME is : \n",
      " ['Etiennette B Good Wool Suit Jacket'\n",
      " 'Demitria 2 Stretch Good Wool Suit Pants' 'Bermuda Shorts' ...\n",
      " \"Women's Green Michigan State Spartans Loud n Proud Spirit Jersey T-Shirt\"\n",
      " \"Women's Pressbox Black Tennessee Volunteers Wild Lips Core T-Shirt\"\n",
      " \"Women's Pressbox Gray Tennessee Volunteers Space Dye Lace-Up V-Neck Long Sleeve T-Shirt\"]\n",
      "\n",
      "\n",
      "\n",
      "The Unique names in the column BRAND is : \n",
      " ['Theory' 'Vince' 'Caslon®' ... 'Indie Lee' 'Marc New York Performance'\n",
      " 'Cuvée Beauty']\n",
      "\n",
      "\n",
      "\n",
      "The Unique names in the column GENDER is : \n",
      " ['Women']\n",
      "\n",
      "\n",
      "\n",
      "The Unique names in the column PROMOTION is : \n",
      " [nan '30% off' '40% off' '39% off' '60% off' '20% off' '50% off' '53% off'\n",
      " '37% off' '25% off' '38% off' '35% off' '58% off' '36% off' '57% off'\n",
      " '45% off' '61% off' '29% off' '33% off' '44% off' '43% off' '32% off'\n",
      " '55% off' '31% off' '48% off' '49% off' '51% off' '65% off' '42% off'\n",
      " '62% off' '46% off' '16% off' '47% off' '56% off' '34% off' '54% off'\n",
      " '52% off' '23% off' '41% off' '26% off' '59% off' '24% off' '18% off'\n",
      " '27% off' '9% off' '19% off' '28% off' '21% off' '10% off' '22% off'\n",
      " '12% off' '64% off' '69% off' '71% off' '13% off' '11% off' '15% off'\n",
      " '70% off' '66% off' '6% off' '63% off' '14% off' '75% off' '8% off'\n",
      " '7% off' '4% off' '72% off' '17% off' '3% off' '68% off' '67% off'\n",
      " '2% off' '1% off' '5% off' '79% off' '80% off']\n",
      "\n",
      "\n",
      "\n"
     ]
    }
   ],
   "source": [
    "cat_col(df)"
   ]
  },
  {
   "cell_type": "markdown",
   "id": "35105e4e",
   "metadata": {},
   "source": [
    "## Removing Insignificant Variables"
   ]
  },
  {
   "cell_type": "code",
   "execution_count": 9,
   "id": "be2aefcc",
   "metadata": {},
   "outputs": [
    {
     "data": {
      "text/plain": [
       "DEPARTMENT               1\n",
       "CATEGORY                 7\n",
       "SUBCATEGORY             81\n",
       "SKU                 129343\n",
       "PRODUCT_NAME        114112\n",
       "BRAND                 2029\n",
       "GENDER                   1\n",
       "PRICE_RETAIL          2127\n",
       "PRICE_CURRENT         3900\n",
       "REVIEW_RATING           42\n",
       "REVIEW_COUNT           789\n",
       "PROMOTION               75\n",
       "COLOR                  963\n",
       "RunDate                  1\n",
       "InsertUpdateTime      9072\n",
       "dtype: int64"
      ]
     },
     "execution_count": 9,
     "metadata": {},
     "output_type": "execute_result"
    }
   ],
   "source": [
    "df.nunique()"
   ]
  },
  {
   "cell_type": "code",
   "execution_count": 10,
   "id": "b5b7d7e2",
   "metadata": {},
   "outputs": [
    {
     "data": {
      "text/html": [
       "<div>\n",
       "<style scoped>\n",
       "    .dataframe tbody tr th:only-of-type {\n",
       "        vertical-align: middle;\n",
       "    }\n",
       "\n",
       "    .dataframe tbody tr th {\n",
       "        vertical-align: top;\n",
       "    }\n",
       "\n",
       "    .dataframe thead th {\n",
       "        text-align: right;\n",
       "    }\n",
       "</style>\n",
       "<table border=\"1\" class=\"dataframe\">\n",
       "  <thead>\n",
       "    <tr style=\"text-align: right;\">\n",
       "      <th></th>\n",
       "      <th>CATEGORY</th>\n",
       "      <th>SUBCATEGORY</th>\n",
       "      <th>PRODUCT_NAME</th>\n",
       "      <th>BRAND</th>\n",
       "      <th>PRICE_CURRENT</th>\n",
       "      <th>REVIEW_RATING</th>\n",
       "      <th>REVIEW_COUNT</th>\n",
       "      <th>PROMOTION</th>\n",
       "      <th>COLOR</th>\n",
       "    </tr>\n",
       "  </thead>\n",
       "  <tbody>\n",
       "    <tr>\n",
       "      <th>0</th>\n",
       "      <td>Clothing</td>\n",
       "      <td>Blazers, Suits &amp; Separates</td>\n",
       "      <td>Etiennette B Good Wool Suit Jacket</td>\n",
       "      <td>Theory</td>\n",
       "      <td>345.0</td>\n",
       "      <td>4.1</td>\n",
       "      <td>85</td>\n",
       "      <td>NaN</td>\n",
       "      <td>498</td>\n",
       "    </tr>\n",
       "    <tr>\n",
       "      <th>1</th>\n",
       "      <td>Clothing</td>\n",
       "      <td>Blazers, Suits &amp; Separates</td>\n",
       "      <td>Demitria 2 Stretch Good Wool Suit Pants</td>\n",
       "      <td>Theory</td>\n",
       "      <td>215.0</td>\n",
       "      <td>4.2</td>\n",
       "      <td>71</td>\n",
       "      <td>NaN</td>\n",
       "      <td>020</td>\n",
       "    </tr>\n",
       "    <tr>\n",
       "      <th>2</th>\n",
       "      <td>Clothing</td>\n",
       "      <td>Blazers, Suits &amp; Separates</td>\n",
       "      <td>Bermuda Shorts</td>\n",
       "      <td>Vince</td>\n",
       "      <td>175.0</td>\n",
       "      <td>4.0</td>\n",
       "      <td>41</td>\n",
       "      <td>NaN</td>\n",
       "      <td>001</td>\n",
       "    </tr>\n",
       "    <tr>\n",
       "      <th>3</th>\n",
       "      <td>Clothing</td>\n",
       "      <td>Blazers, Suits &amp; Separates</td>\n",
       "      <td>Drape Collar Knit Blazer</td>\n",
       "      <td>Caslon®</td>\n",
       "      <td>69.0</td>\n",
       "      <td>4.3</td>\n",
       "      <td>590</td>\n",
       "      <td>NaN</td>\n",
       "      <td>401</td>\n",
       "    </tr>\n",
       "    <tr>\n",
       "      <th>4</th>\n",
       "      <td>Clothing</td>\n",
       "      <td>Blazers, Suits &amp; Separates</td>\n",
       "      <td>Grace Jacket</td>\n",
       "      <td>NIC+ZOE</td>\n",
       "      <td>148.0</td>\n",
       "      <td>3.9</td>\n",
       "      <td>51</td>\n",
       "      <td>NaN</td>\n",
       "      <td>004</td>\n",
       "    </tr>\n",
       "  </tbody>\n",
       "</table>\n",
       "</div>"
      ],
      "text/plain": [
       "   CATEGORY                 SUBCATEGORY  \\\n",
       "0  Clothing  Blazers, Suits & Separates   \n",
       "1  Clothing  Blazers, Suits & Separates   \n",
       "2  Clothing  Blazers, Suits & Separates   \n",
       "3  Clothing  Blazers, Suits & Separates   \n",
       "4  Clothing  Blazers, Suits & Separates   \n",
       "\n",
       "                              PRODUCT_NAME    BRAND  PRICE_CURRENT  \\\n",
       "0       Etiennette B Good Wool Suit Jacket   Theory          345.0   \n",
       "1  Demitria 2 Stretch Good Wool Suit Pants   Theory          215.0   \n",
       "2                           Bermuda Shorts    Vince          175.0   \n",
       "3                 Drape Collar Knit Blazer  Caslon®           69.0   \n",
       "4                             Grace Jacket  NIC+ZOE          148.0   \n",
       "\n",
       "   REVIEW_RATING  REVIEW_COUNT PROMOTION COLOR  \n",
       "0            4.1            85       NaN   498  \n",
       "1            4.2            71       NaN   020  \n",
       "2            4.0            41       NaN   001  \n",
       "3            4.3           590       NaN   401  \n",
       "4            3.9            51       NaN   004  "
      ]
     },
     "execution_count": 10,
     "metadata": {},
     "output_type": "execute_result"
    }
   ],
   "source": [
    "df.drop(columns = ['DEPARTMENT','GENDER','RunDate','InsertUpdateTime','SKU','PRICE_RETAIL'] , inplace = True)\n",
    "df.head()"
   ]
  },
  {
   "cell_type": "markdown",
   "id": "c33b684c",
   "metadata": {},
   "source": [
    "## Missing Values"
   ]
  },
  {
   "cell_type": "markdown",
   "id": "0ce4140c",
   "metadata": {},
   "source": [
    "##### The value  NaN in the column promotion means that there is no promotion for that particular product. \n",
    "##### Hence we impute the NaN values with 0"
   ]
  },
  {
   "cell_type": "code",
   "execution_count": 11,
   "id": "5a9e0200",
   "metadata": {},
   "outputs": [],
   "source": [
    "df['PROMOTION'] = df['PROMOTION'].str.replace('% off','')\n",
    "df['PROMOTION'] = (df[['PROMOTION']].fillna(0)).astype(int)"
   ]
  },
  {
   "cell_type": "code",
   "execution_count": 12,
   "id": "2ad58ef5",
   "metadata": {},
   "outputs": [],
   "source": [
    "def missing_val(dataframe):\n",
    "    df_missing = (dataframe.isnull().sum() * 100 / dataframe.shape[0]).to_frame()\n",
    "    df_missing.columns = ['Percentage Missing']\n",
    "    df_missing = pd.concat([df_missing,dataframe.isnull().sum()] , axis = 1)\n",
    "    df_missing.columns = ['Percentage Missing','Count Missing']\n",
    "    df_missing.sort_values(by = 'Percentage Missing' , ascending = False , inplace = True)\n",
    "    return df_missing"
   ]
  },
  {
   "cell_type": "code",
   "execution_count": 13,
   "id": "ee9c1472",
   "metadata": {},
   "outputs": [
    {
     "data": {
      "text/html": [
       "<div>\n",
       "<style scoped>\n",
       "    .dataframe tbody tr th:only-of-type {\n",
       "        vertical-align: middle;\n",
       "    }\n",
       "\n",
       "    .dataframe tbody tr th {\n",
       "        vertical-align: top;\n",
       "    }\n",
       "\n",
       "    .dataframe thead th {\n",
       "        text-align: right;\n",
       "    }\n",
       "</style>\n",
       "<table border=\"1\" class=\"dataframe\">\n",
       "  <thead>\n",
       "    <tr style=\"text-align: right;\">\n",
       "      <th></th>\n",
       "      <th>Percentage Missing</th>\n",
       "      <th>Count Missing</th>\n",
       "    </tr>\n",
       "  </thead>\n",
       "  <tbody>\n",
       "    <tr>\n",
       "      <th>BRAND</th>\n",
       "      <td>0.039527</td>\n",
       "      <td>114</td>\n",
       "    </tr>\n",
       "    <tr>\n",
       "      <th>PRODUCT_NAME</th>\n",
       "      <td>0.005894</td>\n",
       "      <td>17</td>\n",
       "    </tr>\n",
       "    <tr>\n",
       "      <th>CATEGORY</th>\n",
       "      <td>0.000000</td>\n",
       "      <td>0</td>\n",
       "    </tr>\n",
       "    <tr>\n",
       "      <th>SUBCATEGORY</th>\n",
       "      <td>0.000000</td>\n",
       "      <td>0</td>\n",
       "    </tr>\n",
       "    <tr>\n",
       "      <th>PRICE_CURRENT</th>\n",
       "      <td>0.000000</td>\n",
       "      <td>0</td>\n",
       "    </tr>\n",
       "    <tr>\n",
       "      <th>REVIEW_RATING</th>\n",
       "      <td>0.000000</td>\n",
       "      <td>0</td>\n",
       "    </tr>\n",
       "    <tr>\n",
       "      <th>REVIEW_COUNT</th>\n",
       "      <td>0.000000</td>\n",
       "      <td>0</td>\n",
       "    </tr>\n",
       "    <tr>\n",
       "      <th>PROMOTION</th>\n",
       "      <td>0.000000</td>\n",
       "      <td>0</td>\n",
       "    </tr>\n",
       "    <tr>\n",
       "      <th>COLOR</th>\n",
       "      <td>0.000000</td>\n",
       "      <td>0</td>\n",
       "    </tr>\n",
       "  </tbody>\n",
       "</table>\n",
       "</div>"
      ],
      "text/plain": [
       "               Percentage Missing  Count Missing\n",
       "BRAND                    0.039527            114\n",
       "PRODUCT_NAME             0.005894             17\n",
       "CATEGORY                 0.000000              0\n",
       "SUBCATEGORY              0.000000              0\n",
       "PRICE_CURRENT            0.000000              0\n",
       "REVIEW_RATING            0.000000              0\n",
       "REVIEW_COUNT             0.000000              0\n",
       "PROMOTION                0.000000              0\n",
       "COLOR                    0.000000              0"
      ]
     },
     "execution_count": 13,
     "metadata": {},
     "output_type": "execute_result"
    }
   ],
   "source": [
    "missing_val(df)"
   ]
  },
  {
   "cell_type": "code",
   "execution_count": 14,
   "id": "dd7c8933",
   "metadata": {},
   "outputs": [],
   "source": [
    "df.dropna(inplace = True)"
   ]
  },
  {
   "cell_type": "code",
   "execution_count": 15,
   "id": "afb60b0b",
   "metadata": {},
   "outputs": [
    {
     "data": {
      "text/html": [
       "<div>\n",
       "<style scoped>\n",
       "    .dataframe tbody tr th:only-of-type {\n",
       "        vertical-align: middle;\n",
       "    }\n",
       "\n",
       "    .dataframe tbody tr th {\n",
       "        vertical-align: top;\n",
       "    }\n",
       "\n",
       "    .dataframe thead th {\n",
       "        text-align: right;\n",
       "    }\n",
       "</style>\n",
       "<table border=\"1\" class=\"dataframe\">\n",
       "  <thead>\n",
       "    <tr style=\"text-align: right;\">\n",
       "      <th></th>\n",
       "      <th>Percentage Missing</th>\n",
       "      <th>Count Missing</th>\n",
       "    </tr>\n",
       "  </thead>\n",
       "  <tbody>\n",
       "    <tr>\n",
       "      <th>CATEGORY</th>\n",
       "      <td>0.0</td>\n",
       "      <td>0</td>\n",
       "    </tr>\n",
       "    <tr>\n",
       "      <th>SUBCATEGORY</th>\n",
       "      <td>0.0</td>\n",
       "      <td>0</td>\n",
       "    </tr>\n",
       "    <tr>\n",
       "      <th>PRODUCT_NAME</th>\n",
       "      <td>0.0</td>\n",
       "      <td>0</td>\n",
       "    </tr>\n",
       "    <tr>\n",
       "      <th>BRAND</th>\n",
       "      <td>0.0</td>\n",
       "      <td>0</td>\n",
       "    </tr>\n",
       "    <tr>\n",
       "      <th>PRICE_CURRENT</th>\n",
       "      <td>0.0</td>\n",
       "      <td>0</td>\n",
       "    </tr>\n",
       "    <tr>\n",
       "      <th>REVIEW_RATING</th>\n",
       "      <td>0.0</td>\n",
       "      <td>0</td>\n",
       "    </tr>\n",
       "    <tr>\n",
       "      <th>REVIEW_COUNT</th>\n",
       "      <td>0.0</td>\n",
       "      <td>0</td>\n",
       "    </tr>\n",
       "    <tr>\n",
       "      <th>PROMOTION</th>\n",
       "      <td>0.0</td>\n",
       "      <td>0</td>\n",
       "    </tr>\n",
       "    <tr>\n",
       "      <th>COLOR</th>\n",
       "      <td>0.0</td>\n",
       "      <td>0</td>\n",
       "    </tr>\n",
       "  </tbody>\n",
       "</table>\n",
       "</div>"
      ],
      "text/plain": [
       "               Percentage Missing  Count Missing\n",
       "CATEGORY                      0.0              0\n",
       "SUBCATEGORY                   0.0              0\n",
       "PRODUCT_NAME                  0.0              0\n",
       "BRAND                         0.0              0\n",
       "PRICE_CURRENT                 0.0              0\n",
       "REVIEW_RATING                 0.0              0\n",
       "REVIEW_COUNT                  0.0              0\n",
       "PROMOTION                     0.0              0\n",
       "COLOR                         0.0              0"
      ]
     },
     "execution_count": 15,
     "metadata": {},
     "output_type": "execute_result"
    }
   ],
   "source": [
    "missing_val(df)"
   ]
  },
  {
   "cell_type": "markdown",
   "id": "65424f6b",
   "metadata": {},
   "source": [
    "## Checking for duplicate values and treating them"
   ]
  },
  {
   "cell_type": "code",
   "execution_count": 16,
   "id": "3b29b42e",
   "metadata": {},
   "outputs": [],
   "source": [
    "def duplicate_check(dataframe):\n",
    "    return dataframe.duplicated().value_counts()"
   ]
  },
  {
   "cell_type": "code",
   "execution_count": 17,
   "id": "5680a9e7",
   "metadata": {},
   "outputs": [
    {
     "data": {
      "text/plain": [
       "False    212672\n",
       "True      75608\n",
       "dtype: int64"
      ]
     },
     "execution_count": 17,
     "metadata": {},
     "output_type": "execute_result"
    }
   ],
   "source": [
    "duplicate_check(df)"
   ]
  },
  {
   "cell_type": "markdown",
   "id": "07d61ed5",
   "metadata": {},
   "source": [
    "- There are 75608 duplicate values\n",
    "- We will drop the duplicate records because it may cause our model to overfit since the algorithm learns from the same data again and again"
   ]
  },
  {
   "cell_type": "code",
   "execution_count": 18,
   "id": "214c9116",
   "metadata": {},
   "outputs": [],
   "source": [
    "df.drop_duplicates(inplace = True)\n",
    "df.reset_index(inplace = True , drop = True)"
   ]
  },
  {
   "cell_type": "code",
   "execution_count": 19,
   "id": "5da2db0f",
   "metadata": {},
   "outputs": [
    {
     "data": {
      "text/plain": [
       "False    212672\n",
       "dtype: int64"
      ]
     },
     "execution_count": 19,
     "metadata": {},
     "output_type": "execute_result"
    }
   ],
   "source": [
    "duplicate_check(df)"
   ]
  },
  {
   "cell_type": "code",
   "execution_count": 20,
   "id": "ed164153",
   "metadata": {},
   "outputs": [
    {
     "name": "stdout",
     "output_type": "stream",
     "text": [
      "<class 'pandas.core.frame.DataFrame'>\n",
      "RangeIndex: 212672 entries, 0 to 212671\n",
      "Data columns (total 9 columns):\n",
      " #   Column         Non-Null Count   Dtype  \n",
      "---  ------         --------------   -----  \n",
      " 0   CATEGORY       212672 non-null  object \n",
      " 1   SUBCATEGORY    212672 non-null  object \n",
      " 2   PRODUCT_NAME   212672 non-null  object \n",
      " 3   BRAND          212672 non-null  object \n",
      " 4   PRICE_CURRENT  212672 non-null  float64\n",
      " 5   REVIEW_RATING  212672 non-null  float64\n",
      " 6   REVIEW_COUNT   212672 non-null  int64  \n",
      " 7   PROMOTION      212672 non-null  int32  \n",
      " 8   COLOR          212672 non-null  object \n",
      "dtypes: float64(2), int32(1), int64(1), object(5)\n",
      "memory usage: 13.8+ MB\n"
     ]
    }
   ],
   "source": [
    "df.info()"
   ]
  },
  {
   "cell_type": "markdown",
   "id": "96057d28",
   "metadata": {},
   "source": [
    "## Outlier Analysis"
   ]
  },
  {
   "cell_type": "code",
   "execution_count": 21,
   "id": "a59122fa",
   "metadata": {},
   "outputs": [],
   "source": [
    "plt.rcParams['figure.figsize'] = (15,8)"
   ]
  },
  {
   "cell_type": "code",
   "execution_count": 22,
   "id": "d3bc3170",
   "metadata": {},
   "outputs": [
    {
     "data": {
      "image/png": "[encoded data removed]",
      "text/plain": [
       "<Figure size 1500x800 with 1 Axes>"
      ]
     },
     "metadata": {},
     "output_type": "display_data"
    }
   ],
   "source": [
    "sns.set_style('darkgrid')\n",
    "df.boxplot()\n",
    "plt.show()"
   ]
  },
  {
   "cell_type": "code",
   "execution_count": 23,
   "id": "69e58d46",
   "metadata": {},
   "outputs": [
    {
     "data": {
      "text/plain": [
       "PRICE_CURRENT    12.426750\n",
       "REVIEW_RATING     1.000831\n",
       "REVIEW_COUNT     38.879510\n",
       "PROMOTION         3.671836\n",
       "dtype: float64"
      ]
     },
     "execution_count": 23,
     "metadata": {},
     "output_type": "execute_result"
    }
   ],
   "source": [
    "df.select_dtypes(include = np.number).skew()"
   ]
  },
  {
   "cell_type": "markdown",
   "id": "4e5c36f6",
   "metadata": {},
   "source": [
    "## Feature Engineering"
   ]
  },
  {
   "cell_type": "code",
   "execution_count": 24,
   "id": "471ad251",
   "metadata": {},
   "outputs": [],
   "source": [
    "def promo_bin(x):\n",
    "    if x in range(0,11):\n",
    "        return 1\n",
    "    if x in range(0,21):\n",
    "        return 2\n",
    "    if x in range(0,31):\n",
    "        return 3\n",
    "    if x in range(0,41):\n",
    "        return 4\n",
    "    if x in range(0,51):\n",
    "        return 5\n",
    "    if x in range(0,61):\n",
    "        return 6\n",
    "    if x in range(0,71):\n",
    "        return 7\n",
    "    if x in range(0,81):\n",
    "        return 8\n",
    "    if x in range(0,91):\n",
    "        return 9\n",
    "    if x in range(0,101):\n",
    "        return 10"
   ]
  },
  {
   "cell_type": "code",
   "execution_count": 25,
   "id": "af99b8eb",
   "metadata": {},
   "outputs": [],
   "source": [
    "def promo_avail(x):\n",
    "    if x == 0:\n",
    "        return 0\n",
    "    else:\n",
    "        return 1"
   ]
  },
  {
   "cell_type": "code",
   "execution_count": 26,
   "id": "4e532ccb",
   "metadata": {},
   "outputs": [
    {
     "data": {
      "text/html": [
       "<div>\n",
       "<style scoped>\n",
       "    .dataframe tbody tr th:only-of-type {\n",
       "        vertical-align: middle;\n",
       "    }\n",
       "\n",
       "    .dataframe tbody tr th {\n",
       "        vertical-align: top;\n",
       "    }\n",
       "\n",
       "    .dataframe thead th {\n",
       "        text-align: right;\n",
       "    }\n",
       "</style>\n",
       "<table border=\"1\" class=\"dataframe\">\n",
       "  <thead>\n",
       "    <tr style=\"text-align: right;\">\n",
       "      <th></th>\n",
       "      <th>CATEGORY</th>\n",
       "      <th>SUBCATEGORY</th>\n",
       "      <th>PRODUCT_NAME</th>\n",
       "      <th>BRAND</th>\n",
       "      <th>PRICE_CURRENT</th>\n",
       "      <th>REVIEW_RATING</th>\n",
       "      <th>REVIEW_COUNT</th>\n",
       "      <th>PROMOTION</th>\n",
       "      <th>COLOR</th>\n",
       "      <th>Promotion Level</th>\n",
       "    </tr>\n",
       "  </thead>\n",
       "  <tbody>\n",
       "    <tr>\n",
       "      <th>31</th>\n",
       "      <td>Clothing</td>\n",
       "      <td>Blazers, Suits &amp; Separates</td>\n",
       "      <td>High Waist Wide Leg Ankle Pants</td>\n",
       "      <td>Eileen Fisher</td>\n",
       "      <td>103.6</td>\n",
       "      <td>1.5</td>\n",
       "      <td>2</td>\n",
       "      <td>30</td>\n",
       "      <td>001</td>\n",
       "      <td>3</td>\n",
       "    </tr>\n",
       "    <tr>\n",
       "      <th>52</th>\n",
       "      <td>Clothing</td>\n",
       "      <td>Blazers, Suits &amp; Separates</td>\n",
       "      <td>Ruched Sleeve Linen Jacket</td>\n",
       "      <td>Karen Kane</td>\n",
       "      <td>118.8</td>\n",
       "      <td>3.3</td>\n",
       "      <td>7</td>\n",
       "      <td>40</td>\n",
       "      <td>400</td>\n",
       "      <td>4</td>\n",
       "    </tr>\n",
       "  </tbody>\n",
       "</table>\n",
       "</div>"
      ],
      "text/plain": [
       "    CATEGORY                 SUBCATEGORY                     PRODUCT_NAME  \\\n",
       "31  Clothing  Blazers, Suits & Separates  High Waist Wide Leg Ankle Pants   \n",
       "52  Clothing  Blazers, Suits & Separates       Ruched Sleeve Linen Jacket   \n",
       "\n",
       "            BRAND  PRICE_CURRENT  REVIEW_RATING  REVIEW_COUNT  PROMOTION  \\\n",
       "31  Eileen Fisher          103.6            1.5             2         30   \n",
       "52     Karen Kane          118.8            3.3             7         40   \n",
       "\n",
       "   COLOR Promotion Level  \n",
       "31   001               3  \n",
       "52   400               4  "
      ]
     },
     "execution_count": 26,
     "metadata": {},
     "output_type": "execute_result"
    }
   ],
   "source": [
    "df['Promotion Level'] = df['PROMOTION'].apply(promo_bin)\n",
    "df['Promotion Level'] = df['Promotion Level'].astype('O')\n",
    "df[df['PROMOTION'] != 0].head(2)"
   ]
  },
  {
   "cell_type": "code",
   "execution_count": 27,
   "id": "f20b02a8",
   "metadata": {},
   "outputs": [
    {
     "data": {
      "text/plain": [
       "array([0, 1], dtype=int64)"
      ]
     },
     "execution_count": 27,
     "metadata": {},
     "output_type": "execute_result"
    }
   ],
   "source": [
    "df['Discount']=df['PROMOTION'].apply(lambda x : 0 if x==0 else 1)\n",
    "df['Discount'].unique()"
   ]
  },
  {
   "cell_type": "code",
   "execution_count": 28,
   "id": "93b83b0c",
   "metadata": {},
   "outputs": [],
   "source": [
    "df['Discount'] = df['Discount'].astype('O')"
   ]
  },
  {
   "cell_type": "code",
   "execution_count": 29,
   "id": "2bb4b314",
   "metadata": {
    "scrolled": true
   },
   "outputs": [
    {
     "data": {
      "text/plain": [
       "['good', 'average', 'poor']\n",
       "Categories (3, object): ['poor' < 'average' < 'good']"
      ]
     },
     "execution_count": 29,
     "metadata": {},
     "output_type": "execute_result"
    }
   ],
   "source": [
    "df['Rating_bin'] = pd.cut(df['REVIEW_RATING'], bins=[-1, 2.9, 3.9, 5], labels=['poor', 'average', 'good'])\n",
    "df['Rating_bin'].unique()"
   ]
  },
  {
   "cell_type": "code",
   "execution_count": 30,
   "id": "158c2bae",
   "metadata": {},
   "outputs": [
    {
     "data": {
      "text/html": [
       "<div>\n",
       "<style scoped>\n",
       "    .dataframe tbody tr th:only-of-type {\n",
       "        vertical-align: middle;\n",
       "    }\n",
       "\n",
       "    .dataframe tbody tr th {\n",
       "        vertical-align: top;\n",
       "    }\n",
       "\n",
       "    .dataframe thead th {\n",
       "        text-align: right;\n",
       "    }\n",
       "</style>\n",
       "<table border=\"1\" class=\"dataframe\">\n",
       "  <thead>\n",
       "    <tr style=\"text-align: right;\">\n",
       "      <th></th>\n",
       "      <th>CATEGORY</th>\n",
       "      <th>SUBCATEGORY</th>\n",
       "      <th>PRODUCT_NAME</th>\n",
       "      <th>BRAND</th>\n",
       "      <th>PRICE_CURRENT</th>\n",
       "      <th>REVIEW_RATING</th>\n",
       "      <th>REVIEW_COUNT</th>\n",
       "      <th>PROMOTION</th>\n",
       "      <th>COLOR</th>\n",
       "      <th>Promotion Level</th>\n",
       "      <th>Discount</th>\n",
       "      <th>Rating_bin</th>\n",
       "    </tr>\n",
       "  </thead>\n",
       "  <tbody>\n",
       "    <tr>\n",
       "      <th>0</th>\n",
       "      <td>Clothing</td>\n",
       "      <td>Blazers, Suits &amp; Separates</td>\n",
       "      <td>Etiennette B Good Wool Suit Jacket</td>\n",
       "      <td>Theory</td>\n",
       "      <td>345.0</td>\n",
       "      <td>4.1</td>\n",
       "      <td>85</td>\n",
       "      <td>0</td>\n",
       "      <td>498</td>\n",
       "      <td>1</td>\n",
       "      <td>0</td>\n",
       "      <td>good</td>\n",
       "    </tr>\n",
       "    <tr>\n",
       "      <th>1</th>\n",
       "      <td>Clothing</td>\n",
       "      <td>Blazers, Suits &amp; Separates</td>\n",
       "      <td>Demitria 2 Stretch Good Wool Suit Pants</td>\n",
       "      <td>Theory</td>\n",
       "      <td>215.0</td>\n",
       "      <td>4.2</td>\n",
       "      <td>71</td>\n",
       "      <td>0</td>\n",
       "      <td>020</td>\n",
       "      <td>1</td>\n",
       "      <td>0</td>\n",
       "      <td>good</td>\n",
       "    </tr>\n",
       "    <tr>\n",
       "      <th>2</th>\n",
       "      <td>Clothing</td>\n",
       "      <td>Blazers, Suits &amp; Separates</td>\n",
       "      <td>Bermuda Shorts</td>\n",
       "      <td>Vince</td>\n",
       "      <td>175.0</td>\n",
       "      <td>4.0</td>\n",
       "      <td>41</td>\n",
       "      <td>0</td>\n",
       "      <td>001</td>\n",
       "      <td>1</td>\n",
       "      <td>0</td>\n",
       "      <td>good</td>\n",
       "    </tr>\n",
       "    <tr>\n",
       "      <th>3</th>\n",
       "      <td>Clothing</td>\n",
       "      <td>Blazers, Suits &amp; Separates</td>\n",
       "      <td>Drape Collar Knit Blazer</td>\n",
       "      <td>Caslon®</td>\n",
       "      <td>69.0</td>\n",
       "      <td>4.3</td>\n",
       "      <td>590</td>\n",
       "      <td>0</td>\n",
       "      <td>401</td>\n",
       "      <td>1</td>\n",
       "      <td>0</td>\n",
       "      <td>good</td>\n",
       "    </tr>\n",
       "    <tr>\n",
       "      <th>4</th>\n",
       "      <td>Clothing</td>\n",
       "      <td>Blazers, Suits &amp; Separates</td>\n",
       "      <td>Grace Jacket</td>\n",
       "      <td>NIC+ZOE</td>\n",
       "      <td>148.0</td>\n",
       "      <td>3.9</td>\n",
       "      <td>51</td>\n",
       "      <td>0</td>\n",
       "      <td>004</td>\n",
       "      <td>1</td>\n",
       "      <td>0</td>\n",
       "      <td>average</td>\n",
       "    </tr>\n",
       "  </tbody>\n",
       "</table>\n",
       "</div>"
      ],
      "text/plain": [
       "   CATEGORY                 SUBCATEGORY  \\\n",
       "0  Clothing  Blazers, Suits & Separates   \n",
       "1  Clothing  Blazers, Suits & Separates   \n",
       "2  Clothing  Blazers, Suits & Separates   \n",
       "3  Clothing  Blazers, Suits & Separates   \n",
       "4  Clothing  Blazers, Suits & Separates   \n",
       "\n",
       "                              PRODUCT_NAME    BRAND  PRICE_CURRENT  \\\n",
       "0       Etiennette B Good Wool Suit Jacket   Theory          345.0   \n",
       "1  Demitria 2 Stretch Good Wool Suit Pants   Theory          215.0   \n",
       "2                           Bermuda Shorts    Vince          175.0   \n",
       "3                 Drape Collar Knit Blazer  Caslon®           69.0   \n",
       "4                             Grace Jacket  NIC+ZOE          148.0   \n",
       "\n",
       "   REVIEW_RATING  REVIEW_COUNT  PROMOTION COLOR Promotion Level Discount  \\\n",
       "0            4.1            85          0   498               1        0   \n",
       "1            4.2            71          0   020               1        0   \n",
       "2            4.0            41          0   001               1        0   \n",
       "3            4.3           590          0   401               1        0   \n",
       "4            3.9            51          0   004               1        0   \n",
       "\n",
       "  Rating_bin  \n",
       "0       good  \n",
       "1       good  \n",
       "2       good  \n",
       "3       good  \n",
       "4    average  "
      ]
     },
     "execution_count": 30,
     "metadata": {},
     "output_type": "execute_result"
    }
   ],
   "source": [
    "df.head()"
   ]
  },
  {
   "cell_type": "markdown",
   "id": "15b966e6",
   "metadata": {},
   "source": [
    "## Data visualisation:"
   ]
  },
  {
   "cell_type": "markdown",
   "id": "0fd3efd7",
   "metadata": {},
   "source": [
    "#### Categorical variables"
   ]
  },
  {
   "cell_type": "code",
   "execution_count": 31,
   "id": "df4f95fc",
   "metadata": {},
   "outputs": [],
   "source": [
    "def unicatplot(X):\n",
    "    plt.subplot(1,2,1)\n",
    "    plt.title(X)\n",
    "    sns.barplot(x = df[X].value_counts().index , y = df[X].value_counts().values.flatten())\n",
    "    for a,b in enumerate(df[X].value_counts()):\n",
    "        plt.text(x = a , y = b , s = b , ha = 'center' , fontweight = 'semibold' )\n",
    "    plt.subplot(1,2,2)\n",
    "    plt.title(X)\n",
    "    plt.pie(x = df[X].value_counts().values , labels = df[X].value_counts().index , autopct = '%.2f%%' , shadow = True)\n",
    "    plt.show()"
   ]
  },
  {
   "cell_type": "code",
   "execution_count": 32,
   "id": "bd58f973",
   "metadata": {},
   "outputs": [
    {
     "data": {
      "text/plain": [
       "Index(['CATEGORY', 'Promotion Level', 'Discount'], dtype='object')"
      ]
     },
     "execution_count": 32,
     "metadata": {},
     "output_type": "execute_result"
    }
   ],
   "source": [
    "cols = df.drop(columns = ['SUBCATEGORY', 'PRODUCT_NAME', 'BRAND', 'COLOR','Rating_bin']).select_dtypes(exclude = np.number).columns\n",
    "cols"
   ]
  },
  {
   "cell_type": "code",
   "execution_count": 33,
   "id": "1c7b699a",
   "metadata": {},
   "outputs": [
    {
     "data": {
      "image/png": "[encoded data removed]",
      "text/plain": [
       "<Figure size 1500x800 with 2 Axes>"
      ]
     },
     "metadata": {},
     "output_type": "display_data"
    },
    {
     "data": {
      "image/png": "[encoded data removed]",
      "text/plain": [
       "<Figure size 1500x800 with 2 Axes>"
      ]
     },
     "metadata": {},
     "output_type": "display_data"
    },
    {
     "data": {
      "image/png": "[encoded data removed]",
      "text/plain": [
       "<Figure size 1500x800 with 2 Axes>"
      ]
     },
     "metadata": {},
     "output_type": "display_data"
    }
   ],
   "source": [
    "for i in cols:\n",
    "    unicatplot(i)"
   ]
  },
  {
   "cell_type": "markdown",
   "id": "4bce92a8",
   "metadata": {},
   "source": [
    "#### NUmerical Plots"
   ]
  },
  {
   "cell_type": "code",
   "execution_count": 34,
   "id": "5c303112",
   "metadata": {},
   "outputs": [],
   "source": [
    "def uninumplot(X):\n",
    "    plt.subplot(1,2,1)\n",
    "    print('Skewness of column',X,':',df[X].skew())\n",
    "    print('Kurtosis of column',X,':',df[X].kurt())\n",
    "    df[X].plot(kind='kde')\n",
    "    plt.subplot(1,2,2)\n",
    "    df[X].plot(kind='box',color='r')\n",
    "    plt.show()"
   ]
  },
  {
   "cell_type": "code",
   "execution_count": 35,
   "id": "1c8abd26",
   "metadata": {},
   "outputs": [
    {
     "name": "stdout",
     "output_type": "stream",
     "text": [
      "Skewness of column PRICE_CURRENT : 12.426749693086949\n",
      "Kurtosis of column PRICE_CURRENT : 299.95115191315455\n"
     ]
    },
    {
     "data": {
      "image/png": "[encoded data removed]",
      "text/plain": [
       "<Figure size 1500x800 with 2 Axes>"
      ]
     },
     "metadata": {},
     "output_type": "display_data"
    }
   ],
   "source": [
    "# PRICE_CURRENT (num)\n",
    "uninumplot('PRICE_CURRENT')"
   ]
  },
  {
   "cell_type": "code",
   "execution_count": 36,
   "id": "74a02b13",
   "metadata": {},
   "outputs": [
    {
     "name": "stdout",
     "output_type": "stream",
     "text": [
      "Skewness of column REVIEW_RATING : 1.0008305099423362\n",
      "Kurtosis of column REVIEW_RATING : -0.8298452809469872\n"
     ]
    },
    {
     "data": {
      "image/png": "[encoded data removed]",
      "text/plain": [
       "<Figure size 1500x800 with 2 Axes>"
      ]
     },
     "metadata": {},
     "output_type": "display_data"
    }
   ],
   "source": [
    "# REVIEW_RATING (num)\n",
    "uninumplot('REVIEW_RATING')"
   ]
  },
  {
   "cell_type": "code",
   "execution_count": 37,
   "id": "4afb7fe9",
   "metadata": {},
   "outputs": [
    {
     "name": "stdout",
     "output_type": "stream",
     "text": [
      "Skewness of column REVIEW_COUNT : 38.87950990478238\n",
      "Kurtosis of column REVIEW_COUNT : 2130.202123241176\n"
     ]
    },
    {
     "data": {
      "image/png": "[encoded data removed]",
      "text/plain": [
       "<Figure size 1500x800 with 2 Axes>"
      ]
     },
     "metadata": {},
     "output_type": "display_data"
    }
   ],
   "source": [
    "# REVIEW_COUNT (num)\n",
    "uninumplot('REVIEW_COUNT')"
   ]
  },
  {
   "cell_type": "code",
   "execution_count": 38,
   "id": "b2f86789",
   "metadata": {},
   "outputs": [
    {
     "name": "stdout",
     "output_type": "stream",
     "text": [
      "Skewness of column PROMOTION : 3.671835800639797\n",
      "Kurtosis of column PROMOTION : 12.538970694194136\n"
     ]
    },
    {
     "data": {
      "image/png": "[encoded data removed]",
      "text/plain": [
       "<Figure size 1500x800 with 2 Axes>"
      ]
     },
     "metadata": {},
     "output_type": "display_data"
    }
   ],
   "source": [
    "# PROMOTION\n",
    "uninumplot('PROMOTION')"
   ]
  },
  {
   "cell_type": "markdown",
   "id": "feffbbeb",
   "metadata": {},
   "source": [
    "#### TARGET"
   ]
  },
  {
   "cell_type": "code",
   "execution_count": 39,
   "id": "0a5a0634",
   "metadata": {},
   "outputs": [
    {
     "data": {
      "image/png": "[encoded data removed]",
      "text/plain": [
       "<Figure size 1500x800 with 2 Axes>"
      ]
     },
     "metadata": {},
     "output_type": "display_data"
    }
   ],
   "source": [
    "plt.subplot(1,2,1)\n",
    "plt.title('Rating_bin')\n",
    "sns.barplot(x = df['Rating_bin'].value_counts().index , y = df['Rating_bin'].value_counts().values.flatten())\n",
    "plt.text(x = 0 , y = df['Rating_bin'].value_counts().values[0] , s = df['Rating_bin'].value_counts().values[0] , ha = 'center' , fontweight = 'semibold' )\n",
    "plt.text(x = 1 , y = df['Rating_bin'].value_counts().values[2] , s = df['Rating_bin'].value_counts().values[2] , ha = 'center' , fontweight = 'semibold' )\n",
    "plt.text(x = 2 , y = df['Rating_bin'].value_counts().values[1] , s = df['Rating_bin'].value_counts().values[1] , ha = 'center' , fontweight = 'semibold' )\n",
    "plt.subplot(1,2,2)\n",
    "plt.title('Rating_bin')\n",
    "plt.pie(x = df['Rating_bin'].value_counts().values , labels = df['Rating_bin'].value_counts().index , autopct = '%.2f%%' , shadow = True)\n",
    "plt.show()"
   ]
  },
  {
   "cell_type": "markdown",
   "id": "c86a99ee",
   "metadata": {},
   "source": [
    "## Statistical Test"
   ]
  },
  {
   "cell_type": "code",
   "execution_count": null,
   "id": "789c5320",
   "metadata": {},
   "outputs": [],
   "source": []
  },
  {
   "cell_type": "code",
   "execution_count": null,
   "id": "12737caf",
   "metadata": {},
   "outputs": [],
   "source": []
  },
  {
   "cell_type": "code",
   "execution_count": null,
   "id": "1db3f088",
   "metadata": {},
   "outputs": [],
   "source": []
  },
  {
   "cell_type": "markdown",
   "id": "75d44210",
   "metadata": {},
   "source": [
    "## Transformation"
   ]
  },
  {
   "cell_type": "code",
   "execution_count": 40,
   "id": "38022cde",
   "metadata": {},
   "outputs": [],
   "source": [
    "df['Rating_bin'] = df['Rating_bin'].astype('O')"
   ]
  },
  {
   "cell_type": "code",
   "execution_count": 41,
   "id": "7454a517",
   "metadata": {},
   "outputs": [],
   "source": [
    "df.drop(columns=['PROMOTION','COLOR','REVIEW_RATING','Discount'] , inplace = True)"
   ]
  },
  {
   "cell_type": "code",
   "execution_count": 42,
   "id": "d9089d22",
   "metadata": {},
   "outputs": [
    {
     "data": {
      "text/plain": [
       "Index(['PRICE_CURRENT', 'REVIEW_COUNT'], dtype='object')"
      ]
     },
     "execution_count": 42,
     "metadata": {},
     "output_type": "execute_result"
    }
   ],
   "source": [
    "df_num = df.select_dtypes(include=np.number).columns\n",
    "df_num"
   ]
  },
  {
   "cell_type": "code",
   "execution_count": 43,
   "id": "1c4e1800",
   "metadata": {},
   "outputs": [],
   "source": [
    "from sklearn.preprocessing import PowerTransformer"
   ]
  },
  {
   "cell_type": "code",
   "execution_count": 44,
   "id": "b039b4c4",
   "metadata": {},
   "outputs": [
    {
     "data": {
      "text/plain": [
       "PRICE_CURRENT      0.059546\n",
       "REVIEW_COUNT       0.945273\n",
       "Promotion Level    3.903577\n",
       "dtype: float64"
      ]
     },
     "execution_count": 44,
     "metadata": {},
     "output_type": "execute_result"
    }
   ],
   "source": [
    "pt = PowerTransformer()\n",
    "df[df_num] = pt.fit_transform(df[df_num])\n",
    "df.skew()"
   ]
  },
  {
   "cell_type": "markdown",
   "id": "2f0aa991",
   "metadata": {},
   "source": [
    "## Encoding categorical Variables"
   ]
  },
  {
   "cell_type": "code",
   "execution_count": 52,
   "id": "15270a5c",
   "metadata": {},
   "outputs": [
    {
     "data": {
      "text/plain": [
       "array(['good', 'average', 'poor'], dtype=object)"
      ]
     },
     "execution_count": 52,
     "metadata": {},
     "output_type": "execute_result"
    }
   ],
   "source": [
    "y.unique()"
   ]
  },
  {
   "cell_type": "code",
   "execution_count": 53,
   "id": "e6c1d5c4",
   "metadata": {
    "scrolled": true
   },
   "outputs": [
    {
     "data": {
      "text/html": [
       "<div>\n",
       "<style scoped>\n",
       "    .dataframe tbody tr th:only-of-type {\n",
       "        vertical-align: middle;\n",
       "    }\n",
       "\n",
       "    .dataframe tbody tr th {\n",
       "        vertical-align: top;\n",
       "    }\n",
       "\n",
       "    .dataframe thead th {\n",
       "        text-align: right;\n",
       "    }\n",
       "</style>\n",
       "<table border=\"1\" class=\"dataframe\">\n",
       "  <thead>\n",
       "    <tr style=\"text-align: right;\">\n",
       "      <th></th>\n",
       "      <th>CATEGORY</th>\n",
       "      <th>SUBCATEGORY</th>\n",
       "      <th>PRODUCT_NAME</th>\n",
       "      <th>BRAND</th>\n",
       "      <th>PRICE_CURRENT</th>\n",
       "      <th>REVIEW_COUNT</th>\n",
       "      <th>Promotion Level</th>\n",
       "      <th>Rating_bin</th>\n",
       "    </tr>\n",
       "  </thead>\n",
       "  <tbody>\n",
       "    <tr>\n",
       "      <th>0</th>\n",
       "      <td>1.0</td>\n",
       "      <td>7.0</td>\n",
       "      <td>29274.0</td>\n",
       "      <td>1801.0</td>\n",
       "      <td>0.754685</td>\n",
       "      <td>1.950181</td>\n",
       "      <td>0.0</td>\n",
       "      <td>1.0</td>\n",
       "    </tr>\n",
       "    <tr>\n",
       "      <th>1</th>\n",
       "      <td>1.0</td>\n",
       "      <td>7.0</td>\n",
       "      <td>23963.0</td>\n",
       "      <td>1801.0</td>\n",
       "      <td>0.406677</td>\n",
       "      <td>1.948236</td>\n",
       "      <td>0.0</td>\n",
       "      <td>1.0</td>\n",
       "    </tr>\n",
       "    <tr>\n",
       "      <th>2</th>\n",
       "      <td>1.0</td>\n",
       "      <td>7.0</td>\n",
       "      <td>10370.0</td>\n",
       "      <td>1897.0</td>\n",
       "      <td>0.242161</td>\n",
       "      <td>1.938592</td>\n",
       "      <td>0.0</td>\n",
       "      <td>1.0</td>\n",
       "    </tr>\n",
       "    <tr>\n",
       "      <th>3</th>\n",
       "      <td>1.0</td>\n",
       "      <td>7.0</td>\n",
       "      <td>25920.0</td>\n",
       "      <td>377.0</td>\n",
       "      <td>-0.612241</td>\n",
       "      <td>1.956967</td>\n",
       "      <td>0.0</td>\n",
       "      <td>1.0</td>\n",
       "    </tr>\n",
       "    <tr>\n",
       "      <th>4</th>\n",
       "      <td>1.0</td>\n",
       "      <td>7.0</td>\n",
       "      <td>36781.0</td>\n",
       "      <td>1248.0</td>\n",
       "      <td>0.102030</td>\n",
       "      <td>1.943245</td>\n",
       "      <td>0.0</td>\n",
       "      <td>0.0</td>\n",
       "    </tr>\n",
       "  </tbody>\n",
       "</table>\n",
       "</div>"
      ],
      "text/plain": [
       "   CATEGORY  SUBCATEGORY  PRODUCT_NAME   BRAND  PRICE_CURRENT  REVIEW_COUNT  \\\n",
       "0       1.0          7.0       29274.0  1801.0       0.754685      1.950181   \n",
       "1       1.0          7.0       23963.0  1801.0       0.406677      1.948236   \n",
       "2       1.0          7.0       10370.0  1897.0       0.242161      1.938592   \n",
       "3       1.0          7.0       25920.0   377.0      -0.612241      1.956967   \n",
       "4       1.0          7.0       36781.0  1248.0       0.102030      1.943245   \n",
       "\n",
       "   Promotion Level  Rating_bin  \n",
       "0              0.0         1.0  \n",
       "1              0.0         1.0  \n",
       "2              0.0         1.0  \n",
       "3              0.0         1.0  \n",
       "4              0.0         0.0  "
      ]
     },
     "execution_count": 53,
     "metadata": {},
     "output_type": "execute_result"
    }
   ],
   "source": [
    "df_cat=df.select_dtypes(include='object').columns\n",
    "\n",
    "from sklearn.preprocessing import OrdinalEncoder\n",
    "\n",
    "oe=OrdinalEncoder()\n",
    "df[df_cat]=oe.fit_transform(df[df_cat])\n",
    "df.head()"
   ]
  },
  {
   "cell_type": "code",
   "execution_count": null,
   "id": "dbd97c16",
   "metadata": {},
   "outputs": [],
   "source": []
  },
  {
   "cell_type": "markdown",
   "id": "f39442cc",
   "metadata": {},
   "source": [
    "## Train Test Split"
   ]
  },
  {
   "cell_type": "code",
   "execution_count": 54,
   "id": "36480ad0",
   "metadata": {},
   "outputs": [],
   "source": [
    "from sklearn.model_selection import train_test_split"
   ]
  },
  {
   "cell_type": "code",
   "execution_count": 55,
   "id": "297a8d57",
   "metadata": {},
   "outputs": [],
   "source": [
    "X = df.drop(columns = ['Rating_bin'])\n",
    "y = df['Rating_bin']\n",
    "\n",
    "X_train , X_test , y_train , y_test = train_test_split(X , y , random_state = 42 , test_size = 0.3)"
   ]
  },
  {
   "cell_type": "code",
   "execution_count": 56,
   "id": "48f6e669",
   "metadata": {},
   "outputs": [
    {
     "data": {
      "text/plain": [
       "Index(['CATEGORY', 'SUBCATEGORY', 'PRODUCT_NAME', 'BRAND', 'PRICE_CURRENT',\n",
       "       'REVIEW_COUNT', 'Promotion Level'],\n",
       "      dtype='object')"
      ]
     },
     "execution_count": 56,
     "metadata": {},
     "output_type": "execute_result"
    }
   ],
   "source": [
    "X.columns"
   ]
  },
  {
   "cell_type": "code",
   "execution_count": 57,
   "id": "e5197844",
   "metadata": {},
   "outputs": [
    {
     "data": {
      "text/plain": [
       "0         1.0\n",
       "1         1.0\n",
       "2         1.0\n",
       "3         1.0\n",
       "4         0.0\n",
       "         ... \n",
       "212667    2.0\n",
       "212668    2.0\n",
       "212669    2.0\n",
       "212670    2.0\n",
       "212671    2.0\n",
       "Name: Rating_bin, Length: 212672, dtype: float64"
      ]
     },
     "execution_count": 57,
     "metadata": {},
     "output_type": "execute_result"
    }
   ],
   "source": [
    "y"
   ]
  },
  {
   "cell_type": "markdown",
   "id": "0a22b32c",
   "metadata": {},
   "source": [
    "## Base Model Building"
   ]
  },
  {
   "cell_type": "code",
   "execution_count": 58,
   "id": "1f16b38b",
   "metadata": {},
   "outputs": [],
   "source": [
    "from sklearn.linear_model import LogisticRegression\n",
    "from sklearn.naive_bayes import GaussianNB\n",
    "from sklearn.neighbors import KNeighborsClassifier\n",
    "from sklearn.tree import DecisionTreeClassifier\n",
    "from sklearn.ensemble import RandomForestClassifier, AdaBoostClassifier, GradientBoostingClassifier\n",
    "from xgboost import XGBClassifier\n",
    "from sklearn.svm import SVC"
   ]
  },
  {
   "cell_type": "code",
   "execution_count": 59,
   "id": "a1280c9a",
   "metadata": {},
   "outputs": [],
   "source": [
    "from sklearn.metrics import accuracy_score, recall_score, precision_score, f1_score, roc_auc_score,cohen_kappa_score\n",
    "from sklearn.metrics import confusion_matrix, classification_report\n",
    "from sklearn.metrics import plot_confusion_matrix, plot_roc_curve, plot_precision_recall_curve"
   ]
  },
  {
   "cell_type": "code",
   "execution_count": 265,
   "id": "350efbe1",
   "metadata": {},
   "outputs": [
    {
     "name": "stdout",
     "output_type": "stream",
     "text": [
      "Fitting the Model.......... Logreg\n",
      "Fitting the Model.......... KNN\n",
      "Fitting the Model.......... Naive Bayes\n",
      "Fitting the Model.......... Decision Tree\n",
      "Fitting the Model.......... RandomForest\n",
      "Fitting the Model.......... AdaBoost\n",
      "Fitting the Model.......... Gradient Boosting\n",
      "Fitting the Model.......... XGBoost\n"
     ]
    },
    {
     "data": {
      "text/html": [
       "<div>\n",
       "<style scoped>\n",
       "    .dataframe tbody tr th:only-of-type {\n",
       "        vertical-align: middle;\n",
       "    }\n",
       "\n",
       "    .dataframe tbody tr th {\n",
       "        vertical-align: top;\n",
       "    }\n",
       "\n",
       "    .dataframe thead th {\n",
       "        text-align: right;\n",
       "    }\n",
       "</style>\n",
       "<table border=\"1\" class=\"dataframe\">\n",
       "  <thead>\n",
       "    <tr style=\"text-align: right;\">\n",
       "      <th></th>\n",
       "      <th>Accuracy</th>\n",
       "      <th>Recall</th>\n",
       "      <th>Precision</th>\n",
       "      <th>F1</th>\n",
       "    </tr>\n",
       "    <tr>\n",
       "      <th>Model</th>\n",
       "      <th></th>\n",
       "      <th></th>\n",
       "      <th></th>\n",
       "      <th></th>\n",
       "    </tr>\n",
       "  </thead>\n",
       "  <tbody>\n",
       "    <tr>\n",
       "      <th>Decision Tree</th>\n",
       "      <td>0.999570</td>\n",
       "      <td>0.999570</td>\n",
       "      <td>0.999571</td>\n",
       "      <td>0.999570</td>\n",
       "    </tr>\n",
       "    <tr>\n",
       "      <th>RandomForest</th>\n",
       "      <td>0.999570</td>\n",
       "      <td>0.999570</td>\n",
       "      <td>0.999570</td>\n",
       "      <td>0.999570</td>\n",
       "    </tr>\n",
       "    <tr>\n",
       "      <th>XGBoost</th>\n",
       "      <td>0.909848</td>\n",
       "      <td>0.909848</td>\n",
       "      <td>0.927877</td>\n",
       "      <td>0.899883</td>\n",
       "    </tr>\n",
       "    <tr>\n",
       "      <th>Gradient Boosting</th>\n",
       "      <td>0.892074</td>\n",
       "      <td>0.892074</td>\n",
       "      <td>0.903339</td>\n",
       "      <td>0.868680</td>\n",
       "    </tr>\n",
       "    <tr>\n",
       "      <th>AdaBoost</th>\n",
       "      <td>0.891321</td>\n",
       "      <td>0.891321</td>\n",
       "      <td>0.898391</td>\n",
       "      <td>0.866942</td>\n",
       "    </tr>\n",
       "    <tr>\n",
       "      <th>KNN</th>\n",
       "      <td>0.826023</td>\n",
       "      <td>0.826023</td>\n",
       "      <td>0.817678</td>\n",
       "      <td>0.820408</td>\n",
       "    </tr>\n",
       "    <tr>\n",
       "      <th>Naive Bayes</th>\n",
       "      <td>0.847518</td>\n",
       "      <td>0.847518</td>\n",
       "      <td>0.809956</td>\n",
       "      <td>0.819633</td>\n",
       "    </tr>\n",
       "    <tr>\n",
       "      <th>Logreg</th>\n",
       "      <td>0.720864</td>\n",
       "      <td>0.720864</td>\n",
       "      <td>0.728426</td>\n",
       "      <td>0.603955</td>\n",
       "    </tr>\n",
       "  </tbody>\n",
       "</table>\n",
       "</div>"
      ],
      "text/plain": [
       "                   Accuracy    Recall  Precision        F1\n",
       "Model                                                     \n",
       "Decision Tree      0.999570  0.999570   0.999571  0.999570\n",
       "RandomForest       0.999570  0.999570   0.999570  0.999570\n",
       "XGBoost            0.909848  0.909848   0.927877  0.899883\n",
       "Gradient Boosting  0.892074  0.892074   0.903339  0.868680\n",
       "AdaBoost           0.891321  0.891321   0.898391  0.866942\n",
       "KNN                0.826023  0.826023   0.817678  0.820408\n",
       "Naive Bayes        0.847518  0.847518   0.809956  0.819633\n",
       "Logreg             0.720864  0.720864   0.728426  0.603955"
      ]
     },
     "execution_count": 265,
     "metadata": {},
     "output_type": "execute_result"
    }
   ],
   "source": [
    "#Lets fit all the models as once and decide the one to optimise\n",
    "\n",
    "clfs = {'Logreg' : LogisticRegression(multi_class='multinomial', solver='lbfgs' , random_state = 42),\n",
    "       'KNN' : KNeighborsClassifier(),\n",
    "       'Naive Bayes' : GaussianNB(),\n",
    "       'Decision Tree' : DecisionTreeClassifier(),\n",
    "       'RandomForest' : RandomForestClassifier(),\n",
    "       'AdaBoost' : AdaBoostClassifier(),\n",
    "       'Gradient Boosting' : GradientBoostingClassifier(),\n",
    "       'XGBoost' : XGBClassifier(),\n",
    "       }\n",
    "\n",
    "models_report = pd.DataFrame(columns = ['Model','Accuracy','Recall','Precision','F1'])\n",
    "\n",
    "for clf , clf_name in list(zip(clfs.values() , clfs.keys())):\n",
    "    clf.fit(X_train,y_train)\n",
    "    y_pred = clf.predict(X_train)\n",
    "    print('Fitting the Model..........',clf_name)\n",
    "    t=pd.Series({\n",
    "        'F1' : f1_score(y_train , y_pred ,average = 'weighted'),\n",
    "        'Model' : clf_name,\n",
    "        'Accuracy' : accuracy_score(y_train , y_pred),\n",
    "        'Recall' :recall_score(y_train , y_pred , average = 'weighted'),\n",
    "        'Precision' : precision_score(y_train,y_pred , average = 'weighted')\n",
    "    })\n",
    "    models_report = models_report.append(t,ignore_index = True)\n",
    "    \n",
    "models_report = models_report.sort_values(by = 'F1' , ascending = False).set_index('Model')\n",
    "models_report"
   ]
  },
  {
   "cell_type": "code",
   "execution_count": 266,
   "id": "0e1f6e17",
   "metadata": {},
   "outputs": [
    {
     "name": "stdout",
     "output_type": "stream",
     "text": [
      "Fitting the Model.......... Logreg\n",
      "Fitting the Model.......... KNN\n",
      "Fitting the Model.......... Naive Bayes\n",
      "Fitting the Model.......... Decision Tree\n",
      "Fitting the Model.......... RandomForest\n",
      "Fitting the Model.......... AdaBoost\n",
      "Fitting the Model.......... Gradient Boosting\n",
      "Fitting the Model.......... XGBoost\n"
     ]
    },
    {
     "data": {
      "text/html": [
       "<div>\n",
       "<style scoped>\n",
       "    .dataframe tbody tr th:only-of-type {\n",
       "        vertical-align: middle;\n",
       "    }\n",
       "\n",
       "    .dataframe tbody tr th {\n",
       "        vertical-align: top;\n",
       "    }\n",
       "\n",
       "    .dataframe thead th {\n",
       "        text-align: right;\n",
       "    }\n",
       "</style>\n",
       "<table border=\"1\" class=\"dataframe\">\n",
       "  <thead>\n",
       "    <tr style=\"text-align: right;\">\n",
       "      <th></th>\n",
       "      <th>Accuracy</th>\n",
       "      <th>Recall</th>\n",
       "      <th>Precision</th>\n",
       "      <th>F1</th>\n",
       "    </tr>\n",
       "    <tr>\n",
       "      <th>Model</th>\n",
       "      <th></th>\n",
       "      <th></th>\n",
       "      <th></th>\n",
       "      <th></th>\n",
       "    </tr>\n",
       "  </thead>\n",
       "  <tbody>\n",
       "    <tr>\n",
       "      <th>Decision Tree</th>\n",
       "      <td>0.915865</td>\n",
       "      <td>0.915865</td>\n",
       "      <td>0.916654</td>\n",
       "      <td>0.916218</td>\n",
       "    </tr>\n",
       "    <tr>\n",
       "      <th>RandomForest</th>\n",
       "      <td>0.916288</td>\n",
       "      <td>0.916288</td>\n",
       "      <td>0.919278</td>\n",
       "      <td>0.914079</td>\n",
       "    </tr>\n",
       "    <tr>\n",
       "      <th>XGBoost</th>\n",
       "      <td>0.898310</td>\n",
       "      <td>0.898310</td>\n",
       "      <td>0.905951</td>\n",
       "      <td>0.885293</td>\n",
       "    </tr>\n",
       "    <tr>\n",
       "      <th>Gradient Boosting</th>\n",
       "      <td>0.892762</td>\n",
       "      <td>0.892762</td>\n",
       "      <td>0.896884</td>\n",
       "      <td>0.869512</td>\n",
       "    </tr>\n",
       "    <tr>\n",
       "      <th>AdaBoost</th>\n",
       "      <td>0.892307</td>\n",
       "      <td>0.892307</td>\n",
       "      <td>0.916824</td>\n",
       "      <td>0.868350</td>\n",
       "    </tr>\n",
       "    <tr>\n",
       "      <th>Naive Bayes</th>\n",
       "      <td>0.847074</td>\n",
       "      <td>0.847074</td>\n",
       "      <td>0.808405</td>\n",
       "      <td>0.819137</td>\n",
       "    </tr>\n",
       "    <tr>\n",
       "      <th>KNN</th>\n",
       "      <td>0.736685</td>\n",
       "      <td>0.736685</td>\n",
       "      <td>0.720469</td>\n",
       "      <td>0.727143</td>\n",
       "    </tr>\n",
       "    <tr>\n",
       "      <th>Logreg</th>\n",
       "      <td>0.719789</td>\n",
       "      <td>0.719789</td>\n",
       "      <td>0.729503</td>\n",
       "      <td>0.602544</td>\n",
       "    </tr>\n",
       "  </tbody>\n",
       "</table>\n",
       "</div>"
      ],
      "text/plain": [
       "                   Accuracy    Recall  Precision        F1\n",
       "Model                                                     \n",
       "Decision Tree      0.915865  0.915865   0.916654  0.916218\n",
       "RandomForest       0.916288  0.916288   0.919278  0.914079\n",
       "XGBoost            0.898310  0.898310   0.905951  0.885293\n",
       "Gradient Boosting  0.892762  0.892762   0.896884  0.869512\n",
       "AdaBoost           0.892307  0.892307   0.916824  0.868350\n",
       "Naive Bayes        0.847074  0.847074   0.808405  0.819137\n",
       "KNN                0.736685  0.736685   0.720469  0.727143\n",
       "Logreg             0.719789  0.719789   0.729503  0.602544"
      ]
     },
     "execution_count": 266,
     "metadata": {},
     "output_type": "execute_result"
    }
   ],
   "source": [
    "#Lets fit all the models as once and decide the one to optimise\n",
    "\n",
    "clfs = {'Logreg' : LogisticRegression(multi_class='multinomial', solver='lbfgs' , random_state = 42),\n",
    "       'KNN' : KNeighborsClassifier(),\n",
    "       'Naive Bayes' : GaussianNB(),\n",
    "       'Decision Tree' : DecisionTreeClassifier(),\n",
    "       'RandomForest' : RandomForestClassifier(),\n",
    "       'AdaBoost' : AdaBoostClassifier(),\n",
    "       'Gradient Boosting' : GradientBoostingClassifier(),\n",
    "       'XGBoost' : XGBClassifier(),\n",
    "       }\n",
    "\n",
    "models_report = pd.DataFrame(columns = ['Model','Accuracy','Recall','Precision','F1'])\n",
    "\n",
    "for clf , clf_name in list(zip(clfs.values() , clfs.keys())):\n",
    "    clf.fit(X_train,y_train)\n",
    "    y_pred = clf.predict(X_test)\n",
    "    print('Fitting the Model..........',clf_name)\n",
    "    t=pd.Series({\n",
    "        'F1' : f1_score(y_test , y_pred ,average = 'weighted'),\n",
    "        'Model' : clf_name,\n",
    "        'Accuracy' : accuracy_score(y_test , y_pred),\n",
    "        'Recall' :recall_score(y_test , y_pred , average = 'weighted'),\n",
    "        'Precision' : precision_score(y_test,y_pred , average = 'weighted')\n",
    "    })\n",
    "    models_report = models_report.append(t,ignore_index = True)\n",
    "    \n",
    "models_report = models_report.sort_values(by = 'F1' , ascending = False).set_index('Model')\n",
    "models_report"
   ]
  },
  {
   "cell_type": "markdown",
   "id": "7ff4c611",
   "metadata": {},
   "source": [
    "##### So from the above dataframe , we can infer that the models built using DT,RF,Ab,GB,XGB were overfitting and requires hyper parameter tuning.\n",
    "##### Hence we proceed with Logistic regression"
   ]
  },
  {
   "cell_type": "code",
   "execution_count": 66,
   "id": "79fe1645",
   "metadata": {},
   "outputs": [],
   "source": [
    "def get_train_classification_report(model):\n",
    "    print('Classification Report for Train Data')\n",
    "    y_pred = model.predict(X_train)\n",
    "    print(classification_report(y_train,y_pred))\n",
    "    print('\\n\\n')\n",
    "    \n",
    "def get_test_classification_report(model):\n",
    "    print('Classification Report for Test Data')\n",
    "    y_pred = model.predict(X_test)\n",
    "    print(classification_report(y_test,y_pred))"
   ]
  },
  {
   "cell_type": "code",
   "execution_count": 67,
   "id": "a0b734e8",
   "metadata": {},
   "outputs": [],
   "source": [
    "def train_model_metrics(model):\n",
    "    print(f'Metrics Report for Train Data using the Model {model}')\n",
    "    df_metric = pd.DataFrame(columns = ['F1','Accuracy','Kappa','Precision','Recall'])\n",
    "    \n",
    "    y_pred = model.predict(X_train)\n",
    "    df_metric = df_metric.append({'F1' :f1_score(y_train,y_pred , average = 'weighted'),\n",
    "                                 'Accuracy' : accuracy_score(y_train , y_pred),\n",
    "                                 'Kappa' : cohen_kappa_score(y_train , y_pred),\n",
    "                                 'Precision' : precision_score(y_train , y_pred , average = 'weighted'),\n",
    "                                 'Recall' : recall_score(y_train,y_pred, average = 'weighted')} , ignore_index = True)\n",
    "    return df_metric\n",
    "\n",
    "def test_model_metrics(model):\n",
    "    print('\\n\\n')\n",
    "    print(f'Metrics Report for Test Data using the Model {model}')\n",
    "    df_metric = pd.DataFrame(columns = ['F1','Accuracy','Kappa','Precision','Recall'])\n",
    "    \n",
    "    y_pred = model.predict(X_test)\n",
    "    df_metric = df_metric.append({'F1' :f1_score(y_test,y_pred, average = 'weighted'),\n",
    "                                 'Accuracy' : accuracy_score(y_test , y_pred),\n",
    "                                 'Kappa' : cohen_kappa_score(y_test , y_pred),\n",
    "                                 'Precision' : precision_score(y_test , y_pred, average = 'weighted'),\n",
    "                                 'Recall' : recall_score(y_test,y_pred, average = 'weighted')} , ignore_index = True)\n",
    "    return df_metric\n",
    "\n",
    "    "
   ]
  },
  {
   "cell_type": "markdown",
   "id": "35728395",
   "metadata": {},
   "source": [
    "# Logistic Regression"
   ]
  },
  {
   "cell_type": "code",
   "execution_count": 188,
   "id": "6ce5aa85",
   "metadata": {},
   "outputs": [],
   "source": [
    "master_metrics_card = pd.DataFrame(columns = ['Model Name','F1','Accuracy','Kappa','Precision','Recall'])\n",
    "\n",
    "def mmc_append(model , model_name):\n",
    "    global master_metrics_card\n",
    "    y_pred = model.predict(X_test)\n",
    "    master_metrics_card = master_metrics_card.append({'Model Name' : model_name,\n",
    "                                                      'F1' :f1_score(y_test,y_pred, average = 'weighted'),\n",
    "                                                      'Accuracy' : accuracy_score(y_test , y_pred),\n",
    "                                                      'Kappa' : cohen_kappa_score(y_test , y_pred),\n",
    "                                                      'Precision' : precision_score(y_test , y_pred, average = 'weighted'),\n",
    "                                                      'Recall' : recall_score(y_test,y_pred, average = 'weighted')} , ignore_index = True)\n",
    "    return master_metrics_card"
   ]
  },
  {
   "cell_type": "markdown",
   "id": "39037942",
   "metadata": {},
   "source": [
    "## 1) Base Model"
   ]
  },
  {
   "cell_type": "code",
   "execution_count": 189,
   "id": "2b872149",
   "metadata": {},
   "outputs": [
    {
     "name": "stdout",
     "output_type": "stream",
     "text": [
      "Classification Report for Train Data\n",
      "              precision    recall  f1-score   support\n",
      "\n",
      "         0.0       0.00      0.00      0.00     10474\n",
      "         1.0       1.00      0.00      0.00     31084\n",
      "         2.0       0.72      1.00      0.84    107312\n",
      "\n",
      "    accuracy                           0.72    148870\n",
      "   macro avg       0.57      0.33      0.28    148870\n",
      "weighted avg       0.73      0.72      0.60    148870\n",
      "\n",
      "\n",
      "\n",
      "\n",
      "Classification Report for Test Data\n",
      "              precision    recall  f1-score   support\n",
      "\n",
      "         0.0       0.00      0.00      0.00      4390\n",
      "         1.0       1.00      0.00      0.00     13490\n",
      "         2.0       0.72      1.00      0.84     45922\n",
      "\n",
      "    accuracy                           0.72     63802\n",
      "   macro avg       0.57      0.33      0.28     63802\n",
      "weighted avg       0.73      0.72      0.60     63802\n",
      "\n"
     ]
    }
   ],
   "source": [
    "lr = LogisticRegression(multi_class='multinomial', solver='lbfgs' , random_state = 42)\n",
    "\n",
    "\n",
    "base_model = lr.fit(X_train,y_train)\n",
    "\n",
    "get_train_classification_report(base_model)\n",
    "get_test_classification_report(base_model)"
   ]
  },
  {
   "cell_type": "code",
   "execution_count": 190,
   "id": "36481b50",
   "metadata": {},
   "outputs": [
    {
     "name": "stdout",
     "output_type": "stream",
     "text": [
      "Metrics Report for Train Data using the Model LogisticRegression(multi_class='multinomial', random_state=42)\n"
     ]
    },
    {
     "data": {
      "text/html": [
       "<div>\n",
       "<style scoped>\n",
       "    .dataframe tbody tr th:only-of-type {\n",
       "        vertical-align: middle;\n",
       "    }\n",
       "\n",
       "    .dataframe tbody tr th {\n",
       "        vertical-align: top;\n",
       "    }\n",
       "\n",
       "    .dataframe thead th {\n",
       "        text-align: right;\n",
       "    }\n",
       "</style>\n",
       "<table border=\"1\" class=\"dataframe\">\n",
       "  <thead>\n",
       "    <tr style=\"text-align: right;\">\n",
       "      <th></th>\n",
       "      <th>F1</th>\n",
       "      <th>Accuracy</th>\n",
       "      <th>Kappa</th>\n",
       "      <th>Precision</th>\n",
       "      <th>Recall</th>\n",
       "    </tr>\n",
       "  </thead>\n",
       "  <tbody>\n",
       "    <tr>\n",
       "      <th>0</th>\n",
       "      <td>0.603955</td>\n",
       "      <td>0.720864</td>\n",
       "      <td>0.000109</td>\n",
       "      <td>0.728426</td>\n",
       "      <td>0.720864</td>\n",
       "    </tr>\n",
       "  </tbody>\n",
       "</table>\n",
       "</div>"
      ],
      "text/plain": [
       "         F1  Accuracy     Kappa  Precision    Recall\n",
       "0  0.603955  0.720864  0.000109   0.728426  0.720864"
      ]
     },
     "execution_count": 190,
     "metadata": {},
     "output_type": "execute_result"
    }
   ],
   "source": [
    "train_model_metrics(base_model)"
   ]
  },
  {
   "cell_type": "code",
   "execution_count": 191,
   "id": "316b0c9c",
   "metadata": {},
   "outputs": [
    {
     "name": "stdout",
     "output_type": "stream",
     "text": [
      "\n",
      "\n",
      "\n",
      "Metrics Report for Test Data using the Model LogisticRegression(multi_class='multinomial', random_state=42)\n"
     ]
    },
    {
     "data": {
      "text/html": [
       "<div>\n",
       "<style scoped>\n",
       "    .dataframe tbody tr th:only-of-type {\n",
       "        vertical-align: middle;\n",
       "    }\n",
       "\n",
       "    .dataframe tbody tr th {\n",
       "        vertical-align: top;\n",
       "    }\n",
       "\n",
       "    .dataframe thead th {\n",
       "        text-align: right;\n",
       "    }\n",
       "</style>\n",
       "<table border=\"1\" class=\"dataframe\">\n",
       "  <thead>\n",
       "    <tr style=\"text-align: right;\">\n",
       "      <th></th>\n",
       "      <th>F1</th>\n",
       "      <th>Accuracy</th>\n",
       "      <th>Kappa</th>\n",
       "      <th>Precision</th>\n",
       "      <th>Recall</th>\n",
       "    </tr>\n",
       "  </thead>\n",
       "  <tbody>\n",
       "    <tr>\n",
       "      <th>0</th>\n",
       "      <td>0.602544</td>\n",
       "      <td>0.719789</td>\n",
       "      <td>0.000169</td>\n",
       "      <td>0.729503</td>\n",
       "      <td>0.719789</td>\n",
       "    </tr>\n",
       "  </tbody>\n",
       "</table>\n",
       "</div>"
      ],
      "text/plain": [
       "         F1  Accuracy     Kappa  Precision    Recall\n",
       "0  0.602544  0.719789  0.000169   0.729503  0.719789"
      ]
     },
     "execution_count": 191,
     "metadata": {},
     "output_type": "execute_result"
    }
   ],
   "source": [
    "test_model_metrics(base_model)"
   ]
  },
  {
   "cell_type": "code",
   "execution_count": 192,
   "id": "57c62d15",
   "metadata": {},
   "outputs": [
    {
     "data": {
      "text/html": [
       "<div>\n",
       "<style scoped>\n",
       "    .dataframe tbody tr th:only-of-type {\n",
       "        vertical-align: middle;\n",
       "    }\n",
       "\n",
       "    .dataframe tbody tr th {\n",
       "        vertical-align: top;\n",
       "    }\n",
       "\n",
       "    .dataframe thead th {\n",
       "        text-align: right;\n",
       "    }\n",
       "</style>\n",
       "<table border=\"1\" class=\"dataframe\">\n",
       "  <thead>\n",
       "    <tr style=\"text-align: right;\">\n",
       "      <th></th>\n",
       "      <th>Model Name</th>\n",
       "      <th>F1</th>\n",
       "      <th>Accuracy</th>\n",
       "      <th>Kappa</th>\n",
       "      <th>Precision</th>\n",
       "      <th>Recall</th>\n",
       "    </tr>\n",
       "  </thead>\n",
       "  <tbody>\n",
       "    <tr>\n",
       "      <th>0</th>\n",
       "      <td>LR base_model</td>\n",
       "      <td>0.602544</td>\n",
       "      <td>0.719789</td>\n",
       "      <td>0.000169</td>\n",
       "      <td>0.729503</td>\n",
       "      <td>0.719789</td>\n",
       "    </tr>\n",
       "  </tbody>\n",
       "</table>\n",
       "</div>"
      ],
      "text/plain": [
       "      Model Name        F1  Accuracy     Kappa  Precision    Recall\n",
       "0  LR base_model  0.602544  0.719789  0.000169   0.729503  0.719789"
      ]
     },
     "execution_count": 192,
     "metadata": {},
     "output_type": "execute_result"
    }
   ],
   "source": [
    "mmc_append(base_model,'LR base_model')"
   ]
  },
  {
   "cell_type": "markdown",
   "id": "5754fa0f",
   "metadata": {},
   "source": [
    "## 2) Logistic Regression by assigning Class Weights"
   ]
  },
  {
   "cell_type": "code",
   "execution_count": 60,
   "id": "c97bac31",
   "metadata": {},
   "outputs": [
    {
     "name": "stdout",
     "output_type": "stream",
     "text": [
      "{0: 4.769285970577682, 1: 1.5904039724203944, 2: 0.46263013865504177} \n",
      "\n"
     ]
    },
    {
     "ename": "NameError",
     "evalue": "name 'get_train_classification_report' is not defined",
     "output_type": "error",
     "traceback": [
      "\u001b[1;31m---------------------------------------------------------------------------\u001b[0m",
      "\u001b[1;31mNameError\u001b[0m                                 Traceback (most recent call last)",
      "\u001b[1;32m~\\AppData\\Local\\Temp\\ipykernel_26208\\2398931414.py\u001b[0m in \u001b[0;36m<module>\u001b[1;34m\u001b[0m\n\u001b[0;32m     11\u001b[0m \u001b[1;33m\u001b[0m\u001b[0m\n\u001b[0;32m     12\u001b[0m \u001b[1;33m\u001b[0m\u001b[0m\n\u001b[1;32m---> 13\u001b[1;33m \u001b[0mget_train_classification_report\u001b[0m\u001b[1;33m(\u001b[0m\u001b[0mmodel_2\u001b[0m\u001b[1;33m)\u001b[0m\u001b[1;33m\u001b[0m\u001b[1;33m\u001b[0m\u001b[0m\n\u001b[0m\u001b[0;32m     14\u001b[0m \u001b[0mget_test_classification_report\u001b[0m\u001b[1;33m(\u001b[0m\u001b[0mmodel_2\u001b[0m\u001b[1;33m)\u001b[0m\u001b[1;33m\u001b[0m\u001b[1;33m\u001b[0m\u001b[0m\n",
      "\u001b[1;31mNameError\u001b[0m: name 'get_train_classification_report' is not defined"
     ]
    }
   ],
   "source": [
    "from sklearn.utils.class_weight import compute_class_weight\n",
    "\n",
    "class_weights = compute_class_weight(class_weight='balanced', classes=np.unique(y), y=y)\n",
    "\n",
    "class_weight_dict = dict(enumerate(class_weights))\n",
    "print(class_weight_dict,'\\n')\n",
    "\n",
    "\n",
    "model_2 = LogisticRegression(multi_class='multinomial', solver='lbfgs' , random_state = 42 , class_weight = class_weight_dict)\n",
    "model_2.fit(X_train,y_train)\n",
    "\n",
    "\n",
    "get_train_classification_report(model_2)\n",
    "get_test_classification_report(model_2)"
   ]
  },
  {
   "cell_type": "code",
   "execution_count": 194,
   "id": "60cf72e7",
   "metadata": {},
   "outputs": [
    {
     "name": "stdout",
     "output_type": "stream",
     "text": [
      "Metrics Report for Train Data using the Model LogisticRegression(class_weight={0: 4.769285970577682, 1: 1.5904039724203944,\n",
      "                                 2: 0.46263013865504177},\n",
      "                   multi_class='multinomial', random_state=42)\n"
     ]
    },
    {
     "data": {
      "text/html": [
       "<div>\n",
       "<style scoped>\n",
       "    .dataframe tbody tr th:only-of-type {\n",
       "        vertical-align: middle;\n",
       "    }\n",
       "\n",
       "    .dataframe tbody tr th {\n",
       "        vertical-align: top;\n",
       "    }\n",
       "\n",
       "    .dataframe thead th {\n",
       "        text-align: right;\n",
       "    }\n",
       "</style>\n",
       "<table border=\"1\" class=\"dataframe\">\n",
       "  <thead>\n",
       "    <tr style=\"text-align: right;\">\n",
       "      <th></th>\n",
       "      <th>F1</th>\n",
       "      <th>Accuracy</th>\n",
       "      <th>Kappa</th>\n",
       "      <th>Precision</th>\n",
       "      <th>Recall</th>\n",
       "    </tr>\n",
       "  </thead>\n",
       "  <tbody>\n",
       "    <tr>\n",
       "      <th>0</th>\n",
       "      <td>0.708403</td>\n",
       "      <td>0.665178</td>\n",
       "      <td>0.363745</td>\n",
       "      <td>0.783592</td>\n",
       "      <td>0.665178</td>\n",
       "    </tr>\n",
       "  </tbody>\n",
       "</table>\n",
       "</div>"
      ],
      "text/plain": [
       "         F1  Accuracy     Kappa  Precision    Recall\n",
       "0  0.708403  0.665178  0.363745   0.783592  0.665178"
      ]
     },
     "execution_count": 194,
     "metadata": {},
     "output_type": "execute_result"
    }
   ],
   "source": [
    "train_model_metrics(model_2)"
   ]
  },
  {
   "cell_type": "code",
   "execution_count": 195,
   "id": "15513205",
   "metadata": {},
   "outputs": [
    {
     "name": "stdout",
     "output_type": "stream",
     "text": [
      "\n",
      "\n",
      "\n",
      "Metrics Report for Test Data using the Model LogisticRegression(class_weight={0: 4.769285970577682, 1: 1.5904039724203944,\n",
      "                                 2: 0.46263013865504177},\n",
      "                   multi_class='multinomial', random_state=42)\n"
     ]
    },
    {
     "data": {
      "text/html": [
       "<div>\n",
       "<style scoped>\n",
       "    .dataframe tbody tr th:only-of-type {\n",
       "        vertical-align: middle;\n",
       "    }\n",
       "\n",
       "    .dataframe tbody tr th {\n",
       "        vertical-align: top;\n",
       "    }\n",
       "\n",
       "    .dataframe thead th {\n",
       "        text-align: right;\n",
       "    }\n",
       "</style>\n",
       "<table border=\"1\" class=\"dataframe\">\n",
       "  <thead>\n",
       "    <tr style=\"text-align: right;\">\n",
       "      <th></th>\n",
       "      <th>F1</th>\n",
       "      <th>Accuracy</th>\n",
       "      <th>Kappa</th>\n",
       "      <th>Precision</th>\n",
       "      <th>Recall</th>\n",
       "    </tr>\n",
       "  </thead>\n",
       "  <tbody>\n",
       "    <tr>\n",
       "      <th>0</th>\n",
       "      <td>0.707049</td>\n",
       "      <td>0.662158</td>\n",
       "      <td>0.361787</td>\n",
       "      <td>0.784526</td>\n",
       "      <td>0.662158</td>\n",
       "    </tr>\n",
       "  </tbody>\n",
       "</table>\n",
       "</div>"
      ],
      "text/plain": [
       "         F1  Accuracy     Kappa  Precision    Recall\n",
       "0  0.707049  0.662158  0.361787   0.784526  0.662158"
      ]
     },
     "execution_count": 195,
     "metadata": {},
     "output_type": "execute_result"
    }
   ],
   "source": [
    "test_model_metrics(model_2)"
   ]
  },
  {
   "cell_type": "code",
   "execution_count": 196,
   "id": "ad63c288",
   "metadata": {},
   "outputs": [
    {
     "data": {
      "text/html": [
       "<div>\n",
       "<style scoped>\n",
       "    .dataframe tbody tr th:only-of-type {\n",
       "        vertical-align: middle;\n",
       "    }\n",
       "\n",
       "    .dataframe tbody tr th {\n",
       "        vertical-align: top;\n",
       "    }\n",
       "\n",
       "    .dataframe thead th {\n",
       "        text-align: right;\n",
       "    }\n",
       "</style>\n",
       "<table border=\"1\" class=\"dataframe\">\n",
       "  <thead>\n",
       "    <tr style=\"text-align: right;\">\n",
       "      <th></th>\n",
       "      <th>Model Name</th>\n",
       "      <th>F1</th>\n",
       "      <th>Accuracy</th>\n",
       "      <th>Kappa</th>\n",
       "      <th>Precision</th>\n",
       "      <th>Recall</th>\n",
       "    </tr>\n",
       "  </thead>\n",
       "  <tbody>\n",
       "    <tr>\n",
       "      <th>0</th>\n",
       "      <td>LR base_model</td>\n",
       "      <td>0.602544</td>\n",
       "      <td>0.719789</td>\n",
       "      <td>0.000169</td>\n",
       "      <td>0.729503</td>\n",
       "      <td>0.719789</td>\n",
       "    </tr>\n",
       "    <tr>\n",
       "      <th>1</th>\n",
       "      <td>LR Class Weights</td>\n",
       "      <td>0.707049</td>\n",
       "      <td>0.662158</td>\n",
       "      <td>0.361787</td>\n",
       "      <td>0.784526</td>\n",
       "      <td>0.662158</td>\n",
       "    </tr>\n",
       "  </tbody>\n",
       "</table>\n",
       "</div>"
      ],
      "text/plain": [
       "         Model Name        F1  Accuracy     Kappa  Precision    Recall\n",
       "0     LR base_model  0.602544  0.719789  0.000169   0.729503  0.719789\n",
       "1  LR Class Weights  0.707049  0.662158  0.361787   0.784526  0.662158"
      ]
     },
     "execution_count": 196,
     "metadata": {},
     "output_type": "execute_result"
    }
   ],
   "source": [
    "mmc_append(model_2,'LR Class Weights')"
   ]
  },
  {
   "cell_type": "markdown",
   "id": "2e623c01",
   "metadata": {},
   "source": [
    "## 3) Logistic Regression with GridSearchCV"
   ]
  },
  {
   "cell_type": "code",
   "execution_count": 200,
   "id": "6aa483d7",
   "metadata": {},
   "outputs": [],
   "source": [
    "from sklearn.model_selection import GridSearchCV"
   ]
  },
  {
   "cell_type": "code",
   "execution_count": 201,
   "id": "24dd8fd3",
   "metadata": {},
   "outputs": [],
   "source": [
    "tuned_params = {'C' : [0.1,1,10],\n",
    "               'penalty' : ['l1','l2'],\n",
    "               'solver' : ['libkinear','saga','lbfgs'],\n",
    "               'max_iter' : [100,500,1000]}"
   ]
  },
  {
   "cell_type": "code",
   "execution_count": 202,
   "id": "b9004401",
   "metadata": {},
   "outputs": [],
   "source": [
    "import time"
   ]
  },
  {
   "cell_type": "code",
   "execution_count": 203,
   "id": "8962af82",
   "metadata": {},
   "outputs": [
    {
     "name": "stdout",
     "output_type": "stream",
     "text": [
      "Best hyperparameters:  {'C': 0.1, 'max_iter': 1000, 'penalty': 'l2', 'solver': 'lbfgs'}\n",
      "Best score:  0.8463558809699737\n",
      "Time Taken with n_jobs = -1 : 405.8347144126892  Seconds\n"
     ]
    }
   ],
   "source": [
    "a = time.time()\n",
    "lr = LogisticRegression(multi_class = 'multinomial' , random_state = 42)\n",
    "\n",
    "lr_grid = GridSearchCV(lr , param_grid = tuned_params , cv = 5 , n_jobs = -1)\n",
    "lr_grid.fit(X_train , y_train)\n",
    "\n",
    "print(\"Best hyperparameters: \", lr_grid.best_params_)\n",
    "print(\"Best score: \", lr_grid.best_score_)\n",
    "\n",
    "b = time.time()\n",
    "\n",
    "print('Time Taken with n_jobs = -1 :',b-a,' Seconds')"
   ]
  },
  {
   "cell_type": "code",
   "execution_count": 205,
   "id": "b9ac00ea",
   "metadata": {},
   "outputs": [
    {
     "name": "stdout",
     "output_type": "stream",
     "text": [
      "Classification Report for Train Data\n",
      "              precision    recall  f1-score   support\n",
      "\n",
      "         0.0       0.10      0.00      0.00     10474\n",
      "         1.0       0.66      0.91      0.76     31084\n",
      "         2.0       0.97      0.95      0.96    107312\n",
      "\n",
      "    accuracy                           0.88    148870\n",
      "   macro avg       0.58      0.62      0.57    148870\n",
      "weighted avg       0.84      0.88      0.85    148870\n",
      "\n",
      "\n",
      "\n",
      "\n",
      "Classification Report for Test Data\n",
      "              precision    recall  f1-score   support\n",
      "\n",
      "         0.0       0.25      0.00      0.00      4390\n",
      "         1.0       0.66      0.91      0.77     13490\n",
      "         2.0       0.97      0.95      0.96     45922\n",
      "\n",
      "    accuracy                           0.88     63802\n",
      "   macro avg       0.63      0.62      0.58     63802\n",
      "weighted avg       0.85      0.88      0.85     63802\n",
      "\n"
     ]
    }
   ],
   "source": [
    "lr = LogisticRegression(multi_class = 'multinomial' , random_state = 42 ,\n",
    "                        C = lr_grid.best_params_.get('C'),\n",
    "                       penalty = lr_grid.best_params_.get('penalty'),\n",
    "                       solver = lr_grid.best_params_.get('solver'),\n",
    "                       max_iter = lr_grid.best_params_.get('max_iter'))\n",
    "\n",
    "model_3 = lr.fit(X_train,y_train)\n",
    "\n",
    "get_train_classification_report(model_3)\n",
    "get_test_classification_report(model_3)"
   ]
  },
  {
   "cell_type": "code",
   "execution_count": 206,
   "id": "6eca2f24",
   "metadata": {},
   "outputs": [
    {
     "name": "stdout",
     "output_type": "stream",
     "text": [
      "Metrics Report for Train Data using the Model LogisticRegression(C=0.1, max_iter=1000, multi_class='multinomial',\n",
      "                   random_state=42)\n"
     ]
    },
    {
     "data": {
      "text/html": [
       "<div>\n",
       "<style scoped>\n",
       "    .dataframe tbody tr th:only-of-type {\n",
       "        vertical-align: middle;\n",
       "    }\n",
       "\n",
       "    .dataframe tbody tr th {\n",
       "        vertical-align: top;\n",
       "    }\n",
       "\n",
       "    .dataframe thead th {\n",
       "        text-align: right;\n",
       "    }\n",
       "</style>\n",
       "<table border=\"1\" class=\"dataframe\">\n",
       "  <thead>\n",
       "    <tr style=\"text-align: right;\">\n",
       "      <th></th>\n",
       "      <th>F1</th>\n",
       "      <th>Accuracy</th>\n",
       "      <th>Kappa</th>\n",
       "      <th>Precision</th>\n",
       "      <th>Recall</th>\n",
       "    </tr>\n",
       "  </thead>\n",
       "  <tbody>\n",
       "    <tr>\n",
       "      <th>0</th>\n",
       "      <td>0.852149</td>\n",
       "      <td>0.877853</td>\n",
       "      <td>0.714267</td>\n",
       "      <td>0.842305</td>\n",
       "      <td>0.877853</td>\n",
       "    </tr>\n",
       "  </tbody>\n",
       "</table>\n",
       "</div>"
      ],
      "text/plain": [
       "         F1  Accuracy     Kappa  Precision    Recall\n",
       "0  0.852149  0.877853  0.714267   0.842305  0.877853"
      ]
     },
     "execution_count": 206,
     "metadata": {},
     "output_type": "execute_result"
    }
   ],
   "source": [
    "train_model_metrics(model_3)"
   ]
  },
  {
   "cell_type": "code",
   "execution_count": 207,
   "id": "28872b8f",
   "metadata": {},
   "outputs": [
    {
     "name": "stdout",
     "output_type": "stream",
     "text": [
      "\n",
      "\n",
      "\n",
      "Metrics Report for Test Data using the Model LogisticRegression(C=0.1, max_iter=1000, multi_class='multinomial',\n",
      "                   random_state=42)\n"
     ]
    },
    {
     "data": {
      "text/html": [
       "<div>\n",
       "<style scoped>\n",
       "    .dataframe tbody tr th:only-of-type {\n",
       "        vertical-align: middle;\n",
       "    }\n",
       "\n",
       "    .dataframe tbody tr th {\n",
       "        vertical-align: top;\n",
       "    }\n",
       "\n",
       "    .dataframe thead th {\n",
       "        text-align: right;\n",
       "    }\n",
       "</style>\n",
       "<table border=\"1\" class=\"dataframe\">\n",
       "  <thead>\n",
       "    <tr style=\"text-align: right;\">\n",
       "      <th></th>\n",
       "      <th>F1</th>\n",
       "      <th>Accuracy</th>\n",
       "      <th>Kappa</th>\n",
       "      <th>Precision</th>\n",
       "      <th>Recall</th>\n",
       "    </tr>\n",
       "  </thead>\n",
       "  <tbody>\n",
       "    <tr>\n",
       "      <th>0</th>\n",
       "      <td>0.854417</td>\n",
       "      <td>0.879565</td>\n",
       "      <td>0.718994</td>\n",
       "      <td>0.85487</td>\n",
       "      <td>0.879565</td>\n",
       "    </tr>\n",
       "  </tbody>\n",
       "</table>\n",
       "</div>"
      ],
      "text/plain": [
       "         F1  Accuracy     Kappa  Precision    Recall\n",
       "0  0.854417  0.879565  0.718994    0.85487  0.879565"
      ]
     },
     "execution_count": 207,
     "metadata": {},
     "output_type": "execute_result"
    }
   ],
   "source": [
    "test_model_metrics(model_3)"
   ]
  },
  {
   "cell_type": "code",
   "execution_count": 208,
   "id": "09a58306",
   "metadata": {},
   "outputs": [
    {
     "data": {
      "text/html": [
       "<div>\n",
       "<style scoped>\n",
       "    .dataframe tbody tr th:only-of-type {\n",
       "        vertical-align: middle;\n",
       "    }\n",
       "\n",
       "    .dataframe tbody tr th {\n",
       "        vertical-align: top;\n",
       "    }\n",
       "\n",
       "    .dataframe thead th {\n",
       "        text-align: right;\n",
       "    }\n",
       "</style>\n",
       "<table border=\"1\" class=\"dataframe\">\n",
       "  <thead>\n",
       "    <tr style=\"text-align: right;\">\n",
       "      <th></th>\n",
       "      <th>Model Name</th>\n",
       "      <th>F1</th>\n",
       "      <th>Accuracy</th>\n",
       "      <th>Kappa</th>\n",
       "      <th>Precision</th>\n",
       "      <th>Recall</th>\n",
       "    </tr>\n",
       "  </thead>\n",
       "  <tbody>\n",
       "    <tr>\n",
       "      <th>0</th>\n",
       "      <td>LR base_model</td>\n",
       "      <td>0.602544</td>\n",
       "      <td>0.719789</td>\n",
       "      <td>0.000169</td>\n",
       "      <td>0.729503</td>\n",
       "      <td>0.719789</td>\n",
       "    </tr>\n",
       "    <tr>\n",
       "      <th>1</th>\n",
       "      <td>LR Class Weights</td>\n",
       "      <td>0.707049</td>\n",
       "      <td>0.662158</td>\n",
       "      <td>0.361787</td>\n",
       "      <td>0.784526</td>\n",
       "      <td>0.662158</td>\n",
       "    </tr>\n",
       "    <tr>\n",
       "      <th>2</th>\n",
       "      <td>LR HPTuning</td>\n",
       "      <td>0.854417</td>\n",
       "      <td>0.879565</td>\n",
       "      <td>0.718994</td>\n",
       "      <td>0.854870</td>\n",
       "      <td>0.879565</td>\n",
       "    </tr>\n",
       "  </tbody>\n",
       "</table>\n",
       "</div>"
      ],
      "text/plain": [
       "         Model Name        F1  Accuracy     Kappa  Precision    Recall\n",
       "0     LR base_model  0.602544  0.719789  0.000169   0.729503  0.719789\n",
       "1  LR Class Weights  0.707049  0.662158  0.361787   0.784526  0.662158\n",
       "2       LR HPTuning  0.854417  0.879565  0.718994   0.854870  0.879565"
      ]
     },
     "execution_count": 208,
     "metadata": {},
     "output_type": "execute_result"
    }
   ],
   "source": [
    "mmc_append(model_3,'LR HPTuning')"
   ]
  },
  {
   "cell_type": "markdown",
   "id": "a3efba7d",
   "metadata": {},
   "source": [
    "## 4) Logistic Regression with Tuned Parameters & class weights"
   ]
  },
  {
   "cell_type": "code",
   "execution_count": 279,
   "id": "df5cbd3b",
   "metadata": {},
   "outputs": [
    {
     "name": "stdout",
     "output_type": "stream",
     "text": [
      "Classification Report for Train Data\n",
      "              precision    recall  f1-score   support\n",
      "\n",
      "         0.0       0.23      0.52      0.32     10474\n",
      "         1.0       0.69      0.53      0.60     31084\n",
      "         2.0       1.00      0.95      0.97    107312\n",
      "\n",
      "    accuracy                           0.83    148870\n",
      "   macro avg       0.64      0.66      0.63    148870\n",
      "weighted avg       0.88      0.83      0.85    148870\n",
      "\n",
      "\n",
      "\n",
      "\n",
      "Classification Report for Test Data\n",
      "              precision    recall  f1-score   support\n",
      "\n",
      "         0.0       0.23      0.52      0.32      4390\n",
      "         1.0       0.70      0.53      0.60     13490\n",
      "         2.0       1.00      0.95      0.97     45922\n",
      "\n",
      "    accuracy                           0.83     63802\n",
      "   macro avg       0.64      0.67      0.63     63802\n",
      "weighted avg       0.88      0.83      0.85     63802\n",
      "\n"
     ]
    }
   ],
   "source": [
    "lr = LogisticRegression(multi_class = 'multinomial' , random_state = 42 ,\n",
    "                        C = lr_grid.best_params_.get('C'),\n",
    "                       penalty = lr_grid.best_params_.get('penalty'),\n",
    "                       solver = lr_grid.best_params_.get('solver'),\n",
    "                       max_iter = lr_grid.best_params_.get('max_iter'),\n",
    "                       class_weight = class_weight_dict)\n",
    "\n",
    "model_4 = lr.fit(X_train,y_train)\n",
    "\n",
    "get_train_classification_report(model_4)\n",
    "get_test_classification_report(model_4)"
   ]
  },
  {
   "cell_type": "code",
   "execution_count": 280,
   "id": "0caeb915",
   "metadata": {},
   "outputs": [
    {
     "name": "stdout",
     "output_type": "stream",
     "text": [
      "Metrics Report for Train Data using the Model LogisticRegression(C=0.1,\n",
      "                   class_weight={0: 4.769285970577682, 1: 1.5904039724203944,\n",
      "                                 2: 0.46263013865504177},\n",
      "                   max_iter=1000, multi_class='multinomial', random_state=42)\n"
     ]
    },
    {
     "data": {
      "text/html": [
       "<div>\n",
       "<style scoped>\n",
       "    .dataframe tbody tr th:only-of-type {\n",
       "        vertical-align: middle;\n",
       "    }\n",
       "\n",
       "    .dataframe tbody tr th {\n",
       "        vertical-align: top;\n",
       "    }\n",
       "\n",
       "    .dataframe thead th {\n",
       "        text-align: right;\n",
       "    }\n",
       "</style>\n",
       "<table border=\"1\" class=\"dataframe\">\n",
       "  <thead>\n",
       "    <tr style=\"text-align: right;\">\n",
       "      <th></th>\n",
       "      <th>F1</th>\n",
       "      <th>Accuracy</th>\n",
       "      <th>Kappa</th>\n",
       "      <th>Precision</th>\n",
       "      <th>Recall</th>\n",
       "    </tr>\n",
       "  </thead>\n",
       "  <tbody>\n",
       "    <tr>\n",
       "      <th>0</th>\n",
       "      <td>0.848159</td>\n",
       "      <td>0.829287</td>\n",
       "      <td>0.631218</td>\n",
       "      <td>0.879943</td>\n",
       "      <td>0.829287</td>\n",
       "    </tr>\n",
       "  </tbody>\n",
       "</table>\n",
       "</div>"
      ],
      "text/plain": [
       "         F1  Accuracy     Kappa  Precision    Recall\n",
       "0  0.848159  0.829287  0.631218   0.879943  0.829287"
      ]
     },
     "execution_count": 280,
     "metadata": {},
     "output_type": "execute_result"
    }
   ],
   "source": [
    "train_model_metrics(model_4)"
   ]
  },
  {
   "cell_type": "code",
   "execution_count": 281,
   "id": "fa50c5d4",
   "metadata": {},
   "outputs": [
    {
     "name": "stdout",
     "output_type": "stream",
     "text": [
      "\n",
      "\n",
      "\n",
      "Metrics Report for Test Data using the Model LogisticRegression(C=0.1,\n",
      "                   class_weight={0: 4.769285970577682, 1: 1.5904039724203944,\n",
      "                                 2: 0.46263013865504177},\n",
      "                   max_iter=1000, multi_class='multinomial', random_state=42)\n"
     ]
    },
    {
     "data": {
      "text/html": [
       "<div>\n",
       "<style scoped>\n",
       "    .dataframe tbody tr th:only-of-type {\n",
       "        vertical-align: middle;\n",
       "    }\n",
       "\n",
       "    .dataframe tbody tr th {\n",
       "        vertical-align: top;\n",
       "    }\n",
       "\n",
       "    .dataframe thead th {\n",
       "        text-align: right;\n",
       "    }\n",
       "</style>\n",
       "<table border=\"1\" class=\"dataframe\">\n",
       "  <thead>\n",
       "    <tr style=\"text-align: right;\">\n",
       "      <th></th>\n",
       "      <th>F1</th>\n",
       "      <th>Accuracy</th>\n",
       "      <th>Kappa</th>\n",
       "      <th>Precision</th>\n",
       "      <th>Recall</th>\n",
       "    </tr>\n",
       "  </thead>\n",
       "  <tbody>\n",
       "    <tr>\n",
       "      <th>0</th>\n",
       "      <td>0.848824</td>\n",
       "      <td>0.829269</td>\n",
       "      <td>0.632216</td>\n",
       "      <td>0.881714</td>\n",
       "      <td>0.829269</td>\n",
       "    </tr>\n",
       "  </tbody>\n",
       "</table>\n",
       "</div>"
      ],
      "text/plain": [
       "         F1  Accuracy     Kappa  Precision    Recall\n",
       "0  0.848824  0.829269  0.632216   0.881714  0.829269"
      ]
     },
     "execution_count": 281,
     "metadata": {},
     "output_type": "execute_result"
    }
   ],
   "source": [
    "test_model_metrics(model_4)"
   ]
  },
  {
   "cell_type": "code",
   "execution_count": 212,
   "id": "5dedffc0",
   "metadata": {},
   "outputs": [
    {
     "data": {
      "text/html": [
       "<div>\n",
       "<style scoped>\n",
       "    .dataframe tbody tr th:only-of-type {\n",
       "        vertical-align: middle;\n",
       "    }\n",
       "\n",
       "    .dataframe tbody tr th {\n",
       "        vertical-align: top;\n",
       "    }\n",
       "\n",
       "    .dataframe thead th {\n",
       "        text-align: right;\n",
       "    }\n",
       "</style>\n",
       "<table border=\"1\" class=\"dataframe\">\n",
       "  <thead>\n",
       "    <tr style=\"text-align: right;\">\n",
       "      <th></th>\n",
       "      <th>Model Name</th>\n",
       "      <th>F1</th>\n",
       "      <th>Accuracy</th>\n",
       "      <th>Kappa</th>\n",
       "      <th>Precision</th>\n",
       "      <th>Recall</th>\n",
       "    </tr>\n",
       "  </thead>\n",
       "  <tbody>\n",
       "    <tr>\n",
       "      <th>0</th>\n",
       "      <td>LR base_model</td>\n",
       "      <td>0.602544</td>\n",
       "      <td>0.719789</td>\n",
       "      <td>0.000169</td>\n",
       "      <td>0.729503</td>\n",
       "      <td>0.719789</td>\n",
       "    </tr>\n",
       "    <tr>\n",
       "      <th>1</th>\n",
       "      <td>LR Class Weights</td>\n",
       "      <td>0.707049</td>\n",
       "      <td>0.662158</td>\n",
       "      <td>0.361787</td>\n",
       "      <td>0.784526</td>\n",
       "      <td>0.662158</td>\n",
       "    </tr>\n",
       "    <tr>\n",
       "      <th>2</th>\n",
       "      <td>LR HPTuning</td>\n",
       "      <td>0.854417</td>\n",
       "      <td>0.879565</td>\n",
       "      <td>0.718994</td>\n",
       "      <td>0.854870</td>\n",
       "      <td>0.879565</td>\n",
       "    </tr>\n",
       "    <tr>\n",
       "      <th>3</th>\n",
       "      <td>LR HPTuning with class_weights</td>\n",
       "      <td>0.848787</td>\n",
       "      <td>0.829237</td>\n",
       "      <td>0.632125</td>\n",
       "      <td>0.881590</td>\n",
       "      <td>0.829237</td>\n",
       "    </tr>\n",
       "  </tbody>\n",
       "</table>\n",
       "</div>"
      ],
      "text/plain": [
       "                       Model Name        F1  Accuracy     Kappa  Precision  \\\n",
       "0                   LR base_model  0.602544  0.719789  0.000169   0.729503   \n",
       "1                LR Class Weights  0.707049  0.662158  0.361787   0.784526   \n",
       "2                     LR HPTuning  0.854417  0.879565  0.718994   0.854870   \n",
       "3  LR HPTuning with class_weights  0.848787  0.829237  0.632125   0.881590   \n",
       "\n",
       "     Recall  \n",
       "0  0.719789  \n",
       "1  0.662158  \n",
       "2  0.879565  \n",
       "3  0.829237  "
      ]
     },
     "execution_count": 212,
     "metadata": {},
     "output_type": "execute_result"
    }
   ],
   "source": [
    "mmc_append(model_4,'LR HPTuning with class_weights')"
   ]
  },
  {
   "cell_type": "code",
   "execution_count": null,
   "id": "dedf5dac",
   "metadata": {},
   "outputs": [],
   "source": []
  },
  {
   "cell_type": "code",
   "execution_count": null,
   "id": "1c00b8b9",
   "metadata": {},
   "outputs": [],
   "source": []
  },
  {
   "cell_type": "code",
   "execution_count": null,
   "id": "303d80b1",
   "metadata": {},
   "outputs": [],
   "source": []
  },
  {
   "cell_type": "code",
   "execution_count": null,
   "id": "d3f8a163",
   "metadata": {},
   "outputs": [],
   "source": []
  },
  {
   "cell_type": "code",
   "execution_count": null,
   "id": "a0b864af",
   "metadata": {},
   "outputs": [],
   "source": []
  },
  {
   "cell_type": "markdown",
   "id": "e2c282a1",
   "metadata": {},
   "source": [
    "# Random Forest"
   ]
  },
  {
   "cell_type": "code",
   "execution_count": 68,
   "id": "329e427c",
   "metadata": {},
   "outputs": [],
   "source": [
    "def train_model_metrics(model):\n",
    "    print(f'Metrics Report for Train Data using the Model {model}')\n",
    "    df_metric = pd.DataFrame(columns = ['F1','Accuracy','Kappa','Precision','Recall'])\n",
    "    \n",
    "    y_pred = model.predict(X_train)\n",
    "    df_metric = df_metric.append({'F1' :f1_score(y_train,y_pred , average = 'weighted'),\n",
    "                                 'Accuracy' : accuracy_score(y_train , y_pred),\n",
    "                                 'Kappa' : cohen_kappa_score(y_train , y_pred),\n",
    "                                 'Precision' : precision_score(y_train , y_pred , average = 'weighted'),\n",
    "                                 'Recall' : recall_score(y_train,y_pred, average = 'weighted')} , ignore_index = True)\n",
    "    return df_metric\n",
    "\n",
    "def test_model_metrics(model):\n",
    "    print('\\n\\n')\n",
    "    print(f'Metrics Report for Test Data using the Model {model}')\n",
    "    df_metric = pd.DataFrame(columns = ['F1','Accuracy','Kappa','Precision','Recall'])\n",
    "    \n",
    "    y_pred = model.predict(X_test)\n",
    "    df_metric = df_metric.append({'F1' :f1_score(y_test,y_pred, average = 'weighted'),\n",
    "                                 'Accuracy' : accuracy_score(y_test , y_pred),\n",
    "                                 'Kappa' : cohen_kappa_score(y_test , y_pred),\n",
    "                                 'Precision' : precision_score(y_test , y_pred, average = 'weighted'),\n",
    "                                 'Recall' : recall_score(y_test,y_pred, average = 'weighted')} , ignore_index = True)\n",
    "    return df_metric\n",
    "\n",
    "    "
   ]
  },
  {
   "cell_type": "code",
   "execution_count": 69,
   "id": "3c9b9282",
   "metadata": {},
   "outputs": [],
   "source": [
    "master_metrics_card = pd.DataFrame(columns = ['Model Name','F1','Accuracy','Kappa','Precision','Recall'])\n",
    "\n",
    "def mmc_append(model , model_name):\n",
    "    global master_metrics_card\n",
    "    y_pred = model.predict(X_test)\n",
    "    master_metrics_card = master_metrics_card.append({'Model Name' : model_name,\n",
    "                                                      'F1' :f1_score(y_test,y_pred, average = 'weighted'),\n",
    "                                                      'Accuracy' : accuracy_score(y_test , y_pred),\n",
    "                                                      'Kappa' : cohen_kappa_score(y_test , y_pred),\n",
    "                                                      'Precision' : precision_score(y_test , y_pred, average = 'weighted'),\n",
    "                                                      'Recall' : recall_score(y_test,y_pred, average = 'weighted')} , ignore_index = True)\n",
    "    return master_metrics_card"
   ]
  },
  {
   "cell_type": "markdown",
   "id": "d9104a3c",
   "metadata": {},
   "source": [
    "## 1)Base Model"
   ]
  },
  {
   "cell_type": "code",
   "execution_count": 305,
   "id": "a08c52a4",
   "metadata": {},
   "outputs": [],
   "source": [
    "rf = RandomForestClassifier(random_state = 42)"
   ]
  },
  {
   "cell_type": "code",
   "execution_count": 306,
   "id": "beab6fda",
   "metadata": {},
   "outputs": [
    {
     "name": "stdout",
     "output_type": "stream",
     "text": [
      "Classification Report for Train Data\n",
      "              precision    recall  f1-score   support\n",
      "\n",
      "         0.0       1.00      1.00      1.00     10474\n",
      "         1.0       1.00      1.00      1.00     31084\n",
      "         2.0       1.00      1.00      1.00    107312\n",
      "\n",
      "    accuracy                           1.00    148870\n",
      "   macro avg       1.00      1.00      1.00    148870\n",
      "weighted avg       1.00      1.00      1.00    148870\n",
      "\n",
      "\n",
      "\n",
      "\n",
      "Classification Report for Test Data\n",
      "              precision    recall  f1-score   support\n",
      "\n",
      "         0.0       0.67      0.42      0.52      4390\n",
      "         1.0       0.76      0.92      0.83     13490\n",
      "         2.0       0.99      0.96      0.97     45922\n",
      "\n",
      "    accuracy                           0.92     63802\n",
      "   macro avg       0.81      0.77      0.77     63802\n",
      "weighted avg       0.92      0.92      0.91     63802\n",
      "\n"
     ]
    }
   ],
   "source": [
    "base_model = rf.fit(X_train,y_train)\n",
    "\n",
    "get_train_classification_report(base_model)\n",
    "get_test_classification_report(base_model)"
   ]
  },
  {
   "cell_type": "code",
   "execution_count": 307,
   "id": "02102f1c",
   "metadata": {},
   "outputs": [
    {
     "name": "stdout",
     "output_type": "stream",
     "text": [
      "Metrics Report for Train Data using the Model RandomForestClassifier(random_state=42)\n"
     ]
    },
    {
     "data": {
      "text/html": [
       "<div>\n",
       "<style scoped>\n",
       "    .dataframe tbody tr th:only-of-type {\n",
       "        vertical-align: middle;\n",
       "    }\n",
       "\n",
       "    .dataframe tbody tr th {\n",
       "        vertical-align: top;\n",
       "    }\n",
       "\n",
       "    .dataframe thead th {\n",
       "        text-align: right;\n",
       "    }\n",
       "</style>\n",
       "<table border=\"1\" class=\"dataframe\">\n",
       "  <thead>\n",
       "    <tr style=\"text-align: right;\">\n",
       "      <th></th>\n",
       "      <th>F1</th>\n",
       "      <th>Accuracy</th>\n",
       "      <th>Kappa</th>\n",
       "      <th>Precision</th>\n",
       "      <th>Recall</th>\n",
       "    </tr>\n",
       "  </thead>\n",
       "  <tbody>\n",
       "    <tr>\n",
       "      <th>0</th>\n",
       "      <td>0.999563</td>\n",
       "      <td>0.999563</td>\n",
       "      <td>0.998989</td>\n",
       "      <td>0.999563</td>\n",
       "      <td>0.999563</td>\n",
       "    </tr>\n",
       "  </tbody>\n",
       "</table>\n",
       "</div>"
      ],
      "text/plain": [
       "         F1  Accuracy     Kappa  Precision    Recall\n",
       "0  0.999563  0.999563  0.998989   0.999563  0.999563"
      ]
     },
     "execution_count": 307,
     "metadata": {},
     "output_type": "execute_result"
    }
   ],
   "source": [
    "train_model_metrics(base_model)"
   ]
  },
  {
   "cell_type": "code",
   "execution_count": 308,
   "id": "355f3e42",
   "metadata": {},
   "outputs": [
    {
     "name": "stdout",
     "output_type": "stream",
     "text": [
      "\n",
      "\n",
      "\n",
      "Metrics Report for Test Data using the Model RandomForestClassifier(random_state=42)\n"
     ]
    },
    {
     "data": {
      "text/html": [
       "<div>\n",
       "<style scoped>\n",
       "    .dataframe tbody tr th:only-of-type {\n",
       "        vertical-align: middle;\n",
       "    }\n",
       "\n",
       "    .dataframe tbody tr th {\n",
       "        vertical-align: top;\n",
       "    }\n",
       "\n",
       "    .dataframe thead th {\n",
       "        text-align: right;\n",
       "    }\n",
       "</style>\n",
       "<table border=\"1\" class=\"dataframe\">\n",
       "  <thead>\n",
       "    <tr style=\"text-align: right;\">\n",
       "      <th></th>\n",
       "      <th>F1</th>\n",
       "      <th>Accuracy</th>\n",
       "      <th>Kappa</th>\n",
       "      <th>Precision</th>\n",
       "      <th>Recall</th>\n",
       "    </tr>\n",
       "  </thead>\n",
       "  <tbody>\n",
       "    <tr>\n",
       "      <th>0</th>\n",
       "      <td>0.912705</td>\n",
       "      <td>0.915128</td>\n",
       "      <td>0.807034</td>\n",
       "      <td>0.918024</td>\n",
       "      <td>0.915128</td>\n",
       "    </tr>\n",
       "  </tbody>\n",
       "</table>\n",
       "</div>"
      ],
      "text/plain": [
       "         F1  Accuracy     Kappa  Precision    Recall\n",
       "0  0.912705  0.915128  0.807034   0.918024  0.915128"
      ]
     },
     "execution_count": 308,
     "metadata": {},
     "output_type": "execute_result"
    }
   ],
   "source": [
    "test_model_metrics(base_model)"
   ]
  },
  {
   "cell_type": "code",
   "execution_count": 309,
   "id": "76d6d94e",
   "metadata": {},
   "outputs": [
    {
     "data": {
      "text/html": [
       "<div>\n",
       "<style scoped>\n",
       "    .dataframe tbody tr th:only-of-type {\n",
       "        vertical-align: middle;\n",
       "    }\n",
       "\n",
       "    .dataframe tbody tr th {\n",
       "        vertical-align: top;\n",
       "    }\n",
       "\n",
       "    .dataframe thead th {\n",
       "        text-align: right;\n",
       "    }\n",
       "</style>\n",
       "<table border=\"1\" class=\"dataframe\">\n",
       "  <thead>\n",
       "    <tr style=\"text-align: right;\">\n",
       "      <th></th>\n",
       "      <th>Model Name</th>\n",
       "      <th>F1</th>\n",
       "      <th>Accuracy</th>\n",
       "      <th>Kappa</th>\n",
       "      <th>Precision</th>\n",
       "      <th>Recall</th>\n",
       "    </tr>\n",
       "  </thead>\n",
       "  <tbody>\n",
       "    <tr>\n",
       "      <th>0</th>\n",
       "      <td>RF base_model</td>\n",
       "      <td>0.912705</td>\n",
       "      <td>0.915128</td>\n",
       "      <td>0.807034</td>\n",
       "      <td>0.918024</td>\n",
       "      <td>0.915128</td>\n",
       "    </tr>\n",
       "  </tbody>\n",
       "</table>\n",
       "</div>"
      ],
      "text/plain": [
       "      Model Name        F1  Accuracy     Kappa  Precision    Recall\n",
       "0  RF base_model  0.912705  0.915128  0.807034   0.918024  0.915128"
      ]
     },
     "execution_count": 309,
     "metadata": {},
     "output_type": "execute_result"
    }
   ],
   "source": [
    "mmc_append(base_model,'RF base_model')"
   ]
  },
  {
   "cell_type": "markdown",
   "id": "d06cbb52",
   "metadata": {},
   "source": [
    "## 2) Random Forest with Class Weights"
   ]
  },
  {
   "cell_type": "code",
   "execution_count": 310,
   "id": "e2c40ac1",
   "metadata": {},
   "outputs": [],
   "source": [
    "rf = RandomForestClassifier(random_state = 42 , class_weight = class_weight_dict)"
   ]
  },
  {
   "cell_type": "code",
   "execution_count": 311,
   "id": "071126d5",
   "metadata": {},
   "outputs": [
    {
     "name": "stdout",
     "output_type": "stream",
     "text": [
      "Classification Report for Train Data\n",
      "              precision    recall  f1-score   support\n",
      "\n",
      "         0.0       1.00      1.00      1.00     10474\n",
      "         1.0       1.00      1.00      1.00     31084\n",
      "         2.0       1.00      1.00      1.00    107312\n",
      "\n",
      "    accuracy                           1.00    148870\n",
      "   macro avg       1.00      1.00      1.00    148870\n",
      "weighted avg       1.00      1.00      1.00    148870\n",
      "\n",
      "\n",
      "\n",
      "\n",
      "Classification Report for Test Data\n",
      "              precision    recall  f1-score   support\n",
      "\n",
      "         0.0       0.68      0.42      0.52      4390\n",
      "         1.0       0.75      0.93      0.83     13490\n",
      "         2.0       0.99      0.96      0.97     45922\n",
      "\n",
      "    accuracy                           0.92     63802\n",
      "   macro avg       0.81      0.77      0.78     63802\n",
      "weighted avg       0.92      0.92      0.91     63802\n",
      "\n"
     ]
    }
   ],
   "source": [
    "model_2 = rf.fit(X_train,y_train)\n",
    "\n",
    "get_train_classification_report(model_2)\n",
    "get_test_classification_report(model_2)"
   ]
  },
  {
   "cell_type": "code",
   "execution_count": 312,
   "id": "ff82d076",
   "metadata": {},
   "outputs": [
    {
     "name": "stdout",
     "output_type": "stream",
     "text": [
      "Metrics Report for Train Data using the Model RandomForestClassifier(class_weight={0: 4.769285970577682,\n",
      "                                     1: 1.5904039724203944,\n",
      "                                     2: 0.46263013865504177},\n",
      "                       random_state=42)\n"
     ]
    },
    {
     "data": {
      "text/html": [
       "<div>\n",
       "<style scoped>\n",
       "    .dataframe tbody tr th:only-of-type {\n",
       "        vertical-align: middle;\n",
       "    }\n",
       "\n",
       "    .dataframe tbody tr th {\n",
       "        vertical-align: top;\n",
       "    }\n",
       "\n",
       "    .dataframe thead th {\n",
       "        text-align: right;\n",
       "    }\n",
       "</style>\n",
       "<table border=\"1\" class=\"dataframe\">\n",
       "  <thead>\n",
       "    <tr style=\"text-align: right;\">\n",
       "      <th></th>\n",
       "      <th>F1</th>\n",
       "      <th>Accuracy</th>\n",
       "      <th>Kappa</th>\n",
       "      <th>Precision</th>\n",
       "      <th>Recall</th>\n",
       "    </tr>\n",
       "  </thead>\n",
       "  <tbody>\n",
       "    <tr>\n",
       "      <th>0</th>\n",
       "      <td>0.999564</td>\n",
       "      <td>0.999563</td>\n",
       "      <td>0.998989</td>\n",
       "      <td>0.999564</td>\n",
       "      <td>0.999563</td>\n",
       "    </tr>\n",
       "  </tbody>\n",
       "</table>\n",
       "</div>"
      ],
      "text/plain": [
       "         F1  Accuracy     Kappa  Precision    Recall\n",
       "0  0.999564  0.999563  0.998989   0.999564  0.999563"
      ]
     },
     "execution_count": 312,
     "metadata": {},
     "output_type": "execute_result"
    }
   ],
   "source": [
    "train_model_metrics(model_2)"
   ]
  },
  {
   "cell_type": "code",
   "execution_count": 313,
   "id": "9be86689",
   "metadata": {},
   "outputs": [
    {
     "name": "stdout",
     "output_type": "stream",
     "text": [
      "\n",
      "\n",
      "\n",
      "Metrics Report for Test Data using the Model RandomForestClassifier(class_weight={0: 4.769285970577682,\n",
      "                                     1: 1.5904039724203944,\n",
      "                                     2: 0.46263013865504177},\n",
      "                       random_state=42)\n"
     ]
    },
    {
     "data": {
      "text/html": [
       "<div>\n",
       "<style scoped>\n",
       "    .dataframe tbody tr th:only-of-type {\n",
       "        vertical-align: middle;\n",
       "    }\n",
       "\n",
       "    .dataframe tbody tr th {\n",
       "        vertical-align: top;\n",
       "    }\n",
       "\n",
       "    .dataframe thead th {\n",
       "        text-align: right;\n",
       "    }\n",
       "</style>\n",
       "<table border=\"1\" class=\"dataframe\">\n",
       "  <thead>\n",
       "    <tr style=\"text-align: right;\">\n",
       "      <th></th>\n",
       "      <th>F1</th>\n",
       "      <th>Accuracy</th>\n",
       "      <th>Kappa</th>\n",
       "      <th>Precision</th>\n",
       "      <th>Recall</th>\n",
       "    </tr>\n",
       "  </thead>\n",
       "  <tbody>\n",
       "    <tr>\n",
       "      <th>0</th>\n",
       "      <td>0.912857</td>\n",
       "      <td>0.915316</td>\n",
       "      <td>0.807735</td>\n",
       "      <td>0.918833</td>\n",
       "      <td>0.915316</td>\n",
       "    </tr>\n",
       "  </tbody>\n",
       "</table>\n",
       "</div>"
      ],
      "text/plain": [
       "         F1  Accuracy     Kappa  Precision    Recall\n",
       "0  0.912857  0.915316  0.807735   0.918833  0.915316"
      ]
     },
     "execution_count": 313,
     "metadata": {},
     "output_type": "execute_result"
    }
   ],
   "source": [
    "test_model_metrics(model_2)"
   ]
  },
  {
   "cell_type": "code",
   "execution_count": 314,
   "id": "d4ef4e11",
   "metadata": {},
   "outputs": [
    {
     "data": {
      "text/html": [
       "<div>\n",
       "<style scoped>\n",
       "    .dataframe tbody tr th:only-of-type {\n",
       "        vertical-align: middle;\n",
       "    }\n",
       "\n",
       "    .dataframe tbody tr th {\n",
       "        vertical-align: top;\n",
       "    }\n",
       "\n",
       "    .dataframe thead th {\n",
       "        text-align: right;\n",
       "    }\n",
       "</style>\n",
       "<table border=\"1\" class=\"dataframe\">\n",
       "  <thead>\n",
       "    <tr style=\"text-align: right;\">\n",
       "      <th></th>\n",
       "      <th>Model Name</th>\n",
       "      <th>F1</th>\n",
       "      <th>Accuracy</th>\n",
       "      <th>Kappa</th>\n",
       "      <th>Precision</th>\n",
       "      <th>Recall</th>\n",
       "    </tr>\n",
       "  </thead>\n",
       "  <tbody>\n",
       "    <tr>\n",
       "      <th>0</th>\n",
       "      <td>RF base_model</td>\n",
       "      <td>0.912705</td>\n",
       "      <td>0.915128</td>\n",
       "      <td>0.807034</td>\n",
       "      <td>0.918024</td>\n",
       "      <td>0.915128</td>\n",
       "    </tr>\n",
       "    <tr>\n",
       "      <th>1</th>\n",
       "      <td>RF with Class Weights</td>\n",
       "      <td>0.912857</td>\n",
       "      <td>0.915316</td>\n",
       "      <td>0.807735</td>\n",
       "      <td>0.918833</td>\n",
       "      <td>0.915316</td>\n",
       "    </tr>\n",
       "  </tbody>\n",
       "</table>\n",
       "</div>"
      ],
      "text/plain": [
       "              Model Name        F1  Accuracy     Kappa  Precision    Recall\n",
       "0          RF base_model  0.912705  0.915128  0.807034   0.918024  0.915128\n",
       "1  RF with Class Weights  0.912857  0.915316  0.807735   0.918833  0.915316"
      ]
     },
     "execution_count": 314,
     "metadata": {},
     "output_type": "execute_result"
    }
   ],
   "source": [
    "mmc_append(model_2,'RF with Class Weights')"
   ]
  },
  {
   "cell_type": "markdown",
   "id": "18d9cc47",
   "metadata": {},
   "source": [
    "## 3) RF with GSCV"
   ]
  },
  {
   "cell_type": "code",
   "execution_count": 291,
   "id": "2fefc234",
   "metadata": {},
   "outputs": [],
   "source": [
    "tuned_params = {\n",
    "    'n_estimators':[100,150,200],\n",
    "    'min_samples_leaf':range(1,5,1),\n",
    "    'min_samples_split':range(2,10,2),\n",
    "    'max_depth':[1,2,3,4,5],\n",
    "    'max_features':['sqrt','log2'],\n",
    "    'criterion':['gini','entropy']\n",
    "}"
   ]
  },
  {
   "cell_type": "code",
   "execution_count": 292,
   "id": "b7461fec",
   "metadata": {},
   "outputs": [
    {
     "name": "stdout",
     "output_type": "stream",
     "text": [
      "Best hyperparameters:  {'criterion': 'gini', 'max_depth': 3, 'max_features': 'sqrt', 'min_samples_leaf': 1, 'min_samples_split': 2, 'n_estimators': 150}\n",
      "Best score:  0.8914220460804729\n",
      "Time Taken with n_jobs = -1 : 3148.9831569194794  Seconds\n"
     ]
    }
   ],
   "source": [
    "a = time.time()\n",
    "rf = RandomForestClassifier(random_state = 42)\n",
    "\n",
    "rf_grid = GridSearchCV(rf , param_grid = tuned_params , cv = 5 , n_jobs = -1)\n",
    "rf_grid.fit(X_train,y_train)\n",
    "\n",
    "print(\"Best hyperparameters: \", rf_grid.best_params_)\n",
    "print(\"Best score: \", rf_grid.best_score_)\n",
    "\n",
    "b = time.time()\n",
    "\n",
    "print('Time Taken with n_jobs = -1 :',b-a,' Seconds')"
   ]
  },
  {
   "cell_type": "code",
   "execution_count": 315,
   "id": "27f0c2d8",
   "metadata": {},
   "outputs": [],
   "source": [
    "rf =RandomForestClassifier(random_state = 42 ,\n",
    "                           criterion= 'gini',\n",
    "                           max_depth= 3, \n",
    "                           max_features= 'sqrt',\n",
    "                           min_samples_leaf= 1, \n",
    "                           min_samples_split= 2,\n",
    "                           n_estimators= 150)"
   ]
  },
  {
   "cell_type": "code",
   "execution_count": 316,
   "id": "fb2df044",
   "metadata": {},
   "outputs": [],
   "source": [
    "model_3 = rf.fit(X_train,y_train)"
   ]
  },
  {
   "cell_type": "code",
   "execution_count": 317,
   "id": "2946c288",
   "metadata": {},
   "outputs": [
    {
     "name": "stdout",
     "output_type": "stream",
     "text": [
      "Classification Report for Train Data\n",
      "              precision    recall  f1-score   support\n",
      "\n",
      "         0.0       0.00      0.00      0.00     10474\n",
      "         1.0       0.66      1.00      0.79     31084\n",
      "         2.0       1.00      0.95      0.97    107312\n",
      "\n",
      "    accuracy                           0.89    148870\n",
      "   macro avg       0.55      0.65      0.59    148870\n",
      "weighted avg       0.86      0.89      0.87    148870\n",
      "\n",
      "\n",
      "\n",
      "\n"
     ]
    }
   ],
   "source": [
    "get_train_classification_report(model_3)"
   ]
  },
  {
   "cell_type": "code",
   "execution_count": 318,
   "id": "64933cf6",
   "metadata": {},
   "outputs": [
    {
     "name": "stdout",
     "output_type": "stream",
     "text": [
      "Classification Report for Test Data\n",
      "              precision    recall  f1-score   support\n",
      "\n",
      "         0.0       0.00      0.00      0.00      4390\n",
      "         1.0       0.66      1.00      0.80     13490\n",
      "         2.0       1.00      0.95      0.97     45922\n",
      "\n",
      "    accuracy                           0.89     63802\n",
      "   macro avg       0.55      0.65      0.59     63802\n",
      "weighted avg       0.86      0.89      0.87     63802\n",
      "\n"
     ]
    }
   ],
   "source": [
    "get_test_classification_report(model_3)"
   ]
  },
  {
   "cell_type": "code",
   "execution_count": 319,
   "id": "11bf88c8",
   "metadata": {},
   "outputs": [
    {
     "data": {
      "text/html": [
       "<div>\n",
       "<style scoped>\n",
       "    .dataframe tbody tr th:only-of-type {\n",
       "        vertical-align: middle;\n",
       "    }\n",
       "\n",
       "    .dataframe tbody tr th {\n",
       "        vertical-align: top;\n",
       "    }\n",
       "\n",
       "    .dataframe thead th {\n",
       "        text-align: right;\n",
       "    }\n",
       "</style>\n",
       "<table border=\"1\" class=\"dataframe\">\n",
       "  <thead>\n",
       "    <tr style=\"text-align: right;\">\n",
       "      <th></th>\n",
       "      <th>Model Name</th>\n",
       "      <th>F1</th>\n",
       "      <th>Accuracy</th>\n",
       "      <th>Kappa</th>\n",
       "      <th>Precision</th>\n",
       "      <th>Recall</th>\n",
       "    </tr>\n",
       "  </thead>\n",
       "  <tbody>\n",
       "    <tr>\n",
       "      <th>0</th>\n",
       "      <td>RF base_model</td>\n",
       "      <td>0.912705</td>\n",
       "      <td>0.915128</td>\n",
       "      <td>0.807034</td>\n",
       "      <td>0.918024</td>\n",
       "      <td>0.915128</td>\n",
       "    </tr>\n",
       "    <tr>\n",
       "      <th>1</th>\n",
       "      <td>RF with Class Weights</td>\n",
       "      <td>0.912857</td>\n",
       "      <td>0.915316</td>\n",
       "      <td>0.807735</td>\n",
       "      <td>0.918833</td>\n",
       "      <td>0.915316</td>\n",
       "    </tr>\n",
       "    <tr>\n",
       "      <th>2</th>\n",
       "      <td>RF HPTuned</td>\n",
       "      <td>0.868400</td>\n",
       "      <td>0.892433</td>\n",
       "      <td>0.756854</td>\n",
       "      <td>0.859898</td>\n",
       "      <td>0.892433</td>\n",
       "    </tr>\n",
       "  </tbody>\n",
       "</table>\n",
       "</div>"
      ],
      "text/plain": [
       "              Model Name        F1  Accuracy     Kappa  Precision    Recall\n",
       "0          RF base_model  0.912705  0.915128  0.807034   0.918024  0.915128\n",
       "1  RF with Class Weights  0.912857  0.915316  0.807735   0.918833  0.915316\n",
       "2             RF HPTuned  0.868400  0.892433  0.756854   0.859898  0.892433"
      ]
     },
     "execution_count": 319,
     "metadata": {},
     "output_type": "execute_result"
    }
   ],
   "source": [
    "mmc_append(model_3,'RF HPTuned')"
   ]
  },
  {
   "cell_type": "code",
   "execution_count": null,
   "id": "c0e3f424",
   "metadata": {},
   "outputs": [],
   "source": []
  },
  {
   "cell_type": "markdown",
   "id": "64faef7e",
   "metadata": {},
   "source": [
    "## 4) RF with tuned Params and class_weight"
   ]
  },
  {
   "cell_type": "code",
   "execution_count": 70,
   "id": "7ddeda6e",
   "metadata": {},
   "outputs": [],
   "source": [
    "rf =RandomForestClassifier(random_state = 42 ,\n",
    "                           criterion= 'gini',\n",
    "                           max_depth= 3, \n",
    "                           max_features= 'sqrt',\n",
    "                           min_samples_leaf= 1, \n",
    "                           min_samples_split= 2,\n",
    "                           n_estimators= 150,\n",
    "                          class_weight = class_weight_dict)"
   ]
  },
  {
   "cell_type": "code",
   "execution_count": 71,
   "id": "b9f65f42",
   "metadata": {},
   "outputs": [],
   "source": [
    "model_3 = rf.fit(X_train,y_train)"
   ]
  },
  {
   "cell_type": "code",
   "execution_count": 72,
   "id": "1b536a9f",
   "metadata": {},
   "outputs": [
    {
     "name": "stdout",
     "output_type": "stream",
     "text": [
      "Classification Report for Train Data\n",
      "              precision    recall  f1-score   support\n",
      "\n",
      "         0.0       0.26      0.78      0.39     10474\n",
      "         1.0       0.77      0.40      0.52     31084\n",
      "         2.0       1.00      0.95      0.97    107312\n",
      "\n",
      "    accuracy                           0.82    148870\n",
      "   macro avg       0.68      0.71      0.63    148870\n",
      "weighted avg       0.90      0.82      0.84    148870\n",
      "\n",
      "\n",
      "\n",
      "\n"
     ]
    }
   ],
   "source": [
    "get_train_classification_report(model_3)"
   ]
  },
  {
   "cell_type": "code",
   "execution_count": 73,
   "id": "af4fc429",
   "metadata": {},
   "outputs": [
    {
     "name": "stdout",
     "output_type": "stream",
     "text": [
      "Classification Report for Test Data\n",
      "              precision    recall  f1-score   support\n",
      "\n",
      "         0.0       0.25      0.77      0.38      4390\n",
      "         1.0       0.77      0.40      0.53     13490\n",
      "         2.0       1.00      0.95      0.97     45922\n",
      "\n",
      "    accuracy                           0.82     63802\n",
      "   macro avg       0.67      0.71      0.63     63802\n",
      "weighted avg       0.90      0.82      0.84     63802\n",
      "\n"
     ]
    }
   ],
   "source": [
    "get_test_classification_report(model_3)"
   ]
  },
  {
   "cell_type": "code",
   "execution_count": 324,
   "id": "49b5ba51",
   "metadata": {},
   "outputs": [
    {
     "data": {
      "text/html": [
       "<div>\n",
       "<style scoped>\n",
       "    .dataframe tbody tr th:only-of-type {\n",
       "        vertical-align: middle;\n",
       "    }\n",
       "\n",
       "    .dataframe tbody tr th {\n",
       "        vertical-align: top;\n",
       "    }\n",
       "\n",
       "    .dataframe thead th {\n",
       "        text-align: right;\n",
       "    }\n",
       "</style>\n",
       "<table border=\"1\" class=\"dataframe\">\n",
       "  <thead>\n",
       "    <tr style=\"text-align: right;\">\n",
       "      <th></th>\n",
       "      <th>Model Name</th>\n",
       "      <th>F1</th>\n",
       "      <th>Accuracy</th>\n",
       "      <th>Kappa</th>\n",
       "      <th>Precision</th>\n",
       "      <th>Recall</th>\n",
       "    </tr>\n",
       "  </thead>\n",
       "  <tbody>\n",
       "    <tr>\n",
       "      <th>0</th>\n",
       "      <td>RF base_model</td>\n",
       "      <td>0.912705</td>\n",
       "      <td>0.915128</td>\n",
       "      <td>0.807034</td>\n",
       "      <td>0.918024</td>\n",
       "      <td>0.915128</td>\n",
       "    </tr>\n",
       "    <tr>\n",
       "      <th>1</th>\n",
       "      <td>RF with Class Weights</td>\n",
       "      <td>0.912857</td>\n",
       "      <td>0.915316</td>\n",
       "      <td>0.807735</td>\n",
       "      <td>0.918833</td>\n",
       "      <td>0.915316</td>\n",
       "    </tr>\n",
       "    <tr>\n",
       "      <th>2</th>\n",
       "      <td>RF HPTuned</td>\n",
       "      <td>0.868400</td>\n",
       "      <td>0.892433</td>\n",
       "      <td>0.756854</td>\n",
       "      <td>0.859898</td>\n",
       "      <td>0.892433</td>\n",
       "    </tr>\n",
       "    <tr>\n",
       "      <th>3</th>\n",
       "      <td>RF HPTuned with Class Weights</td>\n",
       "      <td>0.837641</td>\n",
       "      <td>0.818814</td>\n",
       "      <td>0.616311</td>\n",
       "      <td>0.900239</td>\n",
       "      <td>0.818814</td>\n",
       "    </tr>\n",
       "  </tbody>\n",
       "</table>\n",
       "</div>"
      ],
      "text/plain": [
       "                      Model Name        F1  Accuracy     Kappa  Precision  \\\n",
       "0                  RF base_model  0.912705  0.915128  0.807034   0.918024   \n",
       "1          RF with Class Weights  0.912857  0.915316  0.807735   0.918833   \n",
       "2                     RF HPTuned  0.868400  0.892433  0.756854   0.859898   \n",
       "3  RF HPTuned with Class Weights  0.837641  0.818814  0.616311   0.900239   \n",
       "\n",
       "     Recall  \n",
       "0  0.915128  \n",
       "1  0.915316  \n",
       "2  0.892433  \n",
       "3  0.818814  "
      ]
     },
     "execution_count": 324,
     "metadata": {},
     "output_type": "execute_result"
    }
   ],
   "source": [
    "mmc_append(model_3,'RF HPTuned with Class Weights')"
   ]
  },
  {
   "cell_type": "markdown",
   "id": "6c59aa36",
   "metadata": {},
   "source": [
    "## Interpretation"
   ]
  },
  {
   "cell_type": "code",
   "execution_count": 74,
   "id": "04c71d08",
   "metadata": {},
   "outputs": [
    {
     "data": {
      "image/png": "[encoded data removed]",
      "text/plain": [
       "<Figure size 800x430 with 1 Axes>"
      ]
     },
     "metadata": {},
     "output_type": "display_data"
    }
   ],
   "source": [
    "import shap\n",
    "\n",
    "rfc_tuned =RandomForestClassifier(random_state = 42 ,\n",
    "                           criterion= 'gini',\n",
    "                           max_depth= 3, \n",
    "                           max_features= 'sqrt',\n",
    "                           min_samples_leaf= 1, \n",
    "                           min_samples_split= 2,\n",
    "                           n_estimators= 150,\n",
    "                          class_weight = class_weight_dict)\n",
    "rfc_tuned.fit(X_train , y_train)\n",
    "\n",
    "value = shap.TreeExplainer(rfc_tuned).shap_values(X_test)\n",
    "#X = df.drop(columns = 'Outcome')\n",
    "shap.summary_plot(value , X_train , plot_type = 'bar' , feature_names = X.columns)"
   ]
  },
  {
   "cell_type": "markdown",
   "id": "9a1e9160",
   "metadata": {},
   "source": [
    "## Create pipeline for deployment"
   ]
  },
  {
   "cell_type": "code",
   "execution_count": null,
   "id": "1cd6f12e",
   "metadata": {},
   "outputs": [],
   "source": []
  },
  {
   "cell_type": "code",
   "execution_count": 75,
   "id": "21dd24cb",
   "metadata": {},
   "outputs": [],
   "source": [
    "def print_metrics(y_test , y_pred , model_name):\n",
    "    print('Metrics for the model : ',model_name,'\\n')\n",
    "    print('Accuracy Score : ',accuracy_score(y_test , y_pred))\n",
    "    print('Precision Score : ',precision_score(y_test , y_pred , average = 'weighted'))\n",
    "    print('Recall Score : ',recall_score(y_test , y_pred,average = 'weighted'))\n",
    "    print('F1 Score : ',f1_score(y_test , y_pred , average = 'weighted'))\n",
    "    #print('ROC AUC Score : ',roc_auc_score(y_test , y_pred , multi_class = 'ovr'))\n",
    "    print('Classification Report : \\n\\n',classification_report(y_test , y_pred))\n",
    "    "
   ]
  },
  {
   "cell_type": "code",
   "execution_count": 76,
   "id": "358c4fb2",
   "metadata": {},
   "outputs": [
    {
     "name": "stdout",
     "output_type": "stream",
     "text": [
      "Metrics for the model :  Pipeline \n",
      "\n",
      "Accuracy Score :  0.8188144572270462\n",
      "Precision Score :  0.9002386933983114\n",
      "Recall Score :  0.8188144572270462\n",
      "F1 Score :  0.837640668629955\n",
      "Classification Report : \n",
      "\n",
      "               precision    recall  f1-score   support\n",
      "\n",
      "         0.0       0.25      0.77      0.38      4390\n",
      "         1.0       0.77      0.40      0.53     13490\n",
      "         2.0       1.00      0.95      0.97     45922\n",
      "\n",
      "    accuracy                           0.82     63802\n",
      "   macro avg       0.67      0.71      0.63     63802\n",
      "weighted avg       0.90      0.82      0.84     63802\n",
      "\n"
     ]
    }
   ],
   "source": [
    "from sklearn.pipeline import Pipeline\n",
    "#sc = StandardScaler()\n",
    "rfc_tuned = rfc_tuned\n",
    "X_train , X_test , y_train , y_test = train_test_split(X,y,random_state = 42 , test_size = 0.3)\n",
    "steps = [('rfc tuned',rfc_tuned)]\n",
    "pipeline = Pipeline(steps)\n",
    "pipeline.fit(X_train , y_train)\n",
    "y_pred = pipeline.predict(X_test)\n",
    "print_metrics(y_test , y_pred,'Pipeline')"
   ]
  },
  {
   "cell_type": "code",
   "execution_count": 77,
   "id": "3c8985a6",
   "metadata": {},
   "outputs": [],
   "source": [
    "#pickle the pipeline\n",
    "\n",
    "import pickle\n",
    "model = open('rfc.pickle' , 'wb') #file handling\n",
    "pickle.dump(pipeline,model)\n",
    "model.close()"
   ]
  },
  {
   "cell_type": "markdown",
   "id": "31d65924",
   "metadata": {},
   "source": [
    "### *Deployment of the pickled model*"
   ]
  },
  {
   "cell_type": "code",
   "execution_count": 337,
   "id": "e55c4c92",
   "metadata": {},
   "outputs": [
    {
     "data": {
      "text/plain": [
       "CATEGORY           0.000000\n",
       "SUBCATEGORY        0.000000\n",
       "PRODUCT_NAME       0.000000\n",
       "BRAND              0.000000\n",
       "PRICE_CURRENT     -4.703177\n",
       "REVIEW_COUNT      -0.664151\n",
       "Promotion Level    0.000000\n",
       "dtype: float64"
      ]
     },
     "execution_count": 337,
     "metadata": {},
     "output_type": "execute_result"
    }
   ],
   "source": [
    "X.min()"
   ]
  },
  {
   "cell_type": "code",
   "execution_count": 338,
   "id": "5e786570",
   "metadata": {},
   "outputs": [
    {
     "data": {
      "text/plain": [
       "CATEGORY                6.000000\n",
       "SUBCATEGORY            80.000000\n",
       "PRODUCT_NAME       114073.000000\n",
       "BRAND                2028.000000\n",
       "PRICE_CURRENT           2.735687\n",
       "REVIEW_COUNT            1.957535\n",
       "Promotion Level         7.000000\n",
       "dtype: float64"
      ]
     },
     "execution_count": 338,
     "metadata": {},
     "output_type": "execute_result"
    }
   ],
   "source": [
    "X.max()"
   ]
  },
  {
   "cell_type": "code",
   "execution_count": 339,
   "id": "4b414e22",
   "metadata": {},
   "outputs": [
    {
     "data": {
      "text/plain": [
       "Index(['CATEGORY', 'SUBCATEGORY', 'PRODUCT_NAME', 'BRAND', 'PRICE_CURRENT',\n",
       "       'REVIEW_COUNT', 'Promotion Level'],\n",
       "      dtype='object')"
      ]
     },
     "execution_count": 339,
     "metadata": {},
     "output_type": "execute_result"
    }
   ],
   "source": [
    "X.columns"
   ]
  },
  {
   "cell_type": "code",
   "execution_count": 1,
   "id": "0b15851f",
   "metadata": {},
   "outputs": [
    {
     "name": "stdout",
     "output_type": "stream",
     "text": [
      "Overwriting app.py\n"
     ]
    }
   ],
   "source": [
    "%%writefile app.py\n",
    "import streamlit as st\n",
    "import pandas as pd\n",
    "#from sklearn.preprocessing import StandardScaler\n",
    "import pickle\n",
    "st.title('Reviews Prediction App ⭐')\n",
    "\n",
    "#step 1\n",
    "model = open('rfc.pickle','rb')\n",
    "clf = pickle.load(model)\n",
    "model.close()\n",
    "\n",
    "#step2 : Creating Widgets\n",
    "\n",
    "category = st.number_input('CATEGORY',1,6,step = 1)\n",
    "subcategor = st.slider('SUBCATEGORY', 0,80,0)\n",
    "productname = st.slider('PRODUCT_NAME',0,114073,0)\n",
    "brand = st.slider('BRAND',0,2028,0)\n",
    "pricecurrent = st.slider('PRICE_CURRENT',-4.7,2.73,-4.7)\n",
    "reviewcount = st.slider('REVIEW_COUNT',-0.7,2.0,-0.7)\n",
    "promotionlevel = st.slider('Promotion Level',0,7,0)\n",
    "#age = st.slider('Age',21,81,21)\n",
    "\n",
    "#step 3 : converting user input into model input\n",
    "\n",
    "data = {'CATEGORY' : category,\n",
    "        'SUBCATEGORY' : subcategory,\n",
    "        'PRODUCT_NAME' : productname,\n",
    "        'BRAND' : brand,\n",
    "        'PRICE_CURRENT' : pricecurrent,\n",
    "       'REVIEW_COUNT' : reviewcount,\n",
    "        'Promotion Level' : promotionlevel }\n",
    "input_data = pd.DataFrame([data])\n",
    "\n",
    "#step4 : Get Predictions\n",
    "preds = clf.predict(input_data)[0]\n",
    "if st.button('Predict'):\n",
    "    if preds == 1:\n",
    "        st.success('Good')\n",
    "    if preds == 0:\n",
    "        st.success('Average')\n",
    "    if preds == 2:\n",
    "        st.error('Poor')"
   ]
  },
  {
   "cell_type": "code",
   "execution_count": null,
   "id": "d20707e9",
   "metadata": {},
   "outputs": [],
   "source": []
  }
 ],
 "metadata": {
  "kernelspec": {
   "display_name": "Python 3 (ipykernel)",
   "language": "python",
   "name": "python3"
  },
  "language_info": {
   "codemirror_mode": {
    "name": "ipython",
    "version": 3
   },
   "file_extension": ".py",
   "mimetype": "text/x-python",
   "name": "python",
   "nbconvert_exporter": "python",
   "pygments_lexer": "ipython3",
   "version": "3.9.13"
  }
 },
 "nbformat": 4,
 "nbformat_minor": 5
}
